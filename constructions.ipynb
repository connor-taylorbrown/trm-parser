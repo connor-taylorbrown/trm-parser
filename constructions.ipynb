{
 "cells": [
  {
   "cell_type": "code",
   "execution_count": 3,
   "id": "fd931cf7",
   "metadata": {},
   "outputs": [
    {
     "data": {
      "application/vnd.microsoft.datawrangler.viewer.v0+json": {
       "columns": [
        {
         "name": "index",
         "rawType": "int64",
         "type": "integer"
        },
        {
         "name": "count",
         "rawType": "int64",
         "type": "integer"
        },
        {
         "name": "item",
         "rawType": "object",
         "type": "unknown"
        },
        {
         "name": "construction",
         "rawType": "object",
         "type": "string"
        }
       ],
       "ref": "450f640e-a25a-4021-b03d-ec75acfde10f",
       "rows": [
        [
         "0",
         "51",
         "none",
         "ma-TA-V"
        ],
        [
         "1",
         "50",
         "none",
         "na-TA-V"
        ],
        [
         "2",
         "41",
         "kōrero",
         "ma-TA-V"
        ],
        [
         "3",
         "31",
         "whakahaere",
         "ma-TA-V"
        ],
        [
         "4",
         "27",
         "tangi",
         "na-TA-V"
        ],
        [
         "5",
         "27",
         "mahi",
         "ma-TA-V"
        ],
        [
         "6",
         "20",
         "hanga",
         "na-TA-V"
        ],
        [
         "7",
         "19",
         "whiriwhiri",
         "ma-TA-V"
        ],
        [
         "8",
         "19",
         "titiro",
         "ma-TA-V"
        ],
        [
         "9",
         "18",
         "tīmata",
         "na-TA-V"
        ],
        [
         "10",
         "18",
         "kī",
         "ma-TA-V"
        ],
        [
         "11",
         "16",
         "manaaki",
         "ma-det-TA-V"
        ],
        [
         "12",
         "16",
         "kawe",
         "ma-TA-V"
        ],
        [
         "13",
         "13",
         "whakatau",
         "ma-TA-V"
        ],
        [
         "14",
         "13",
         "tuku",
         "na-TA-V"
        ],
        [
         "15",
         "12",
         "kī",
         "na-TA-V"
        ],
        [
         "16",
         "11",
         "whakatakoto",
         "ma-TA-V"
        ],
        [
         "17",
         "11",
         "tuku",
         "ma-TA-V"
        ],
        [
         "18",
         "11",
         "tiaki",
         "ma-TA-V"
        ],
        [
         "19",
         "11",
         "kōrero",
         "ma-det-TA-V"
        ],
        [
         "20",
         "11",
         "hāpai",
         "ma-TA-V"
        ],
        [
         "21",
         "10",
         "āwhina",
         "ma-TA-V"
        ],
        [
         "22",
         "10",
         "utu",
         "ma-TA-V"
        ],
        [
         "23",
         "10",
         "tautoko",
         "ma-TA-V"
        ],
        [
         "24",
         "9",
         "whakatikatika",
         "ma-TA-V"
        ],
        [
         "25",
         "9",
         "whakatakoto",
         "na-TA-V"
        ],
        [
         "26",
         "9",
         "whakahaere",
         "ma-det-TA-V"
        ],
        [
         "27",
         "9",
         "whakaatu",
         "ma-TA-V"
        ],
        [
         "28",
         "9",
         "rapu",
         "ma-TA-V"
        ],
        [
         "29",
         "9",
         "mahi",
         "na-TA-V"
        ],
        [
         "30",
         "9",
         "kōrero",
         "na-TA-V"
        ],
        [
         "31",
         "9",
         "hari",
         "ma-TA-V"
        ],
        [
         "32",
         "8",
         "whakarite",
         "ma-TA-V"
        ],
        [
         "33",
         "8",
         "whakamārama",
         "ma-TA-V"
        ],
        [
         "34",
         "8",
         "whakahaere",
         "na-TA-V"
        ],
        [
         "35",
         "8",
         "tono",
         "na-TA-V"
        ],
        [
         "36",
         "8",
         "mau",
         "na-TA-V"
        ],
        [
         "37",
         "8",
         "manaaki",
         "ma-TA-V"
        ],
        [
         "38",
         "8",
         "haere",
         "ma-TA-V"
        ],
        [
         "39",
         "7",
         "whāngai",
         "ma-TA-V"
        ],
        [
         "40",
         "7",
         "whakawā",
         "ma-TA-V"
        ],
        [
         "41",
         "7",
         "whakatika",
         "ma-TA-V"
        ],
        [
         "42",
         "7",
         "whai",
         "na-TA-V"
        ],
        [
         "43",
         "7",
         "tango",
         "na-TA-V"
        ],
        [
         "44",
         "7",
         "hoko",
         "ma-TA-V"
        ],
        [
         "45",
         "6",
         "āwhina",
         "ma-det-TA-V"
        ],
        [
         "46",
         "6",
         "āta",
         "ma-TA-V"
        ],
        [
         "47",
         "6",
         "ārahi",
         "ma-TA-V"
        ],
        [
         "48",
         "6",
         "whāngai",
         "na-det-TA-V"
        ],
        [
         "49",
         "6",
         "whakatō",
         "na-TA-V"
        ]
       ],
       "shape": {
        "columns": 3,
        "rows": 631
       }
      },
      "text/html": [
       "<div>\n",
       "<style scoped>\n",
       "    .dataframe tbody tr th:only-of-type {\n",
       "        vertical-align: middle;\n",
       "    }\n",
       "\n",
       "    .dataframe tbody tr th {\n",
       "        vertical-align: top;\n",
       "    }\n",
       "\n",
       "    .dataframe thead th {\n",
       "        text-align: right;\n",
       "    }\n",
       "</style>\n",
       "<table border=\"1\" class=\"dataframe\">\n",
       "  <thead>\n",
       "    <tr style=\"text-align: right;\">\n",
       "      <th></th>\n",
       "      <th>count</th>\n",
       "      <th>item</th>\n",
       "      <th>construction</th>\n",
       "    </tr>\n",
       "  </thead>\n",
       "  <tbody>\n",
       "    <tr>\n",
       "      <th>0</th>\n",
       "      <td>51</td>\n",
       "      <td>none</td>\n",
       "      <td>ma-TA-V</td>\n",
       "    </tr>\n",
       "    <tr>\n",
       "      <th>1</th>\n",
       "      <td>50</td>\n",
       "      <td>none</td>\n",
       "      <td>na-TA-V</td>\n",
       "    </tr>\n",
       "    <tr>\n",
       "      <th>2</th>\n",
       "      <td>41</td>\n",
       "      <td>kōrero</td>\n",
       "      <td>ma-TA-V</td>\n",
       "    </tr>\n",
       "    <tr>\n",
       "      <th>3</th>\n",
       "      <td>31</td>\n",
       "      <td>whakahaere</td>\n",
       "      <td>ma-TA-V</td>\n",
       "    </tr>\n",
       "    <tr>\n",
       "      <th>4</th>\n",
       "      <td>27</td>\n",
       "      <td>tangi</td>\n",
       "      <td>na-TA-V</td>\n",
       "    </tr>\n",
       "    <tr>\n",
       "      <th>...</th>\n",
       "      <td>...</td>\n",
       "      <td>...</td>\n",
       "      <td>...</td>\n",
       "    </tr>\n",
       "    <tr>\n",
       "      <th>626</th>\n",
       "      <td>1</td>\n",
       "      <td>arataki</td>\n",
       "      <td>ma-det-TA-V</td>\n",
       "    </tr>\n",
       "    <tr>\n",
       "      <th>627</th>\n",
       "      <td>1</td>\n",
       "      <td>anga</td>\n",
       "      <td>ma-TA-V</td>\n",
       "    </tr>\n",
       "    <tr>\n",
       "      <th>628</th>\n",
       "      <td>1</td>\n",
       "      <td>akona</td>\n",
       "      <td>na-TA-V</td>\n",
       "    </tr>\n",
       "    <tr>\n",
       "      <th>629</th>\n",
       "      <td>1</td>\n",
       "      <td>aituāngia</td>\n",
       "      <td>na-TA-V</td>\n",
       "    </tr>\n",
       "    <tr>\n",
       "      <th>630</th>\n",
       "      <td>1</td>\n",
       "      <td>ahu</td>\n",
       "      <td>na-TA-V</td>\n",
       "    </tr>\n",
       "  </tbody>\n",
       "</table>\n",
       "<p>631 rows × 3 columns</p>\n",
       "</div>"
      ],
      "text/plain": [
       "     count        item construction\n",
       "0       51        none      ma-TA-V\n",
       "1       50        none      na-TA-V\n",
       "2       41      kōrero      ma-TA-V\n",
       "3       31  whakahaere      ma-TA-V\n",
       "4       27       tangi      na-TA-V\n",
       "..     ...         ...          ...\n",
       "626      1     arataki  ma-det-TA-V\n",
       "627      1        anga      ma-TA-V\n",
       "628      1       akona      na-TA-V\n",
       "629      1   aituāngia      na-TA-V\n",
       "630      1         ahu      na-TA-V\n",
       "\n",
       "[631 rows x 3 columns]"
      ]
     },
     "execution_count": 3,
     "metadata": {},
     "output_type": "execute_result"
    }
   ],
   "source": [
    "import pandas as pd\n",
    "\n",
    "\n",
    "verbs = pd.read_csv('output/counts/merged-V.csv')\n",
    "\n",
    "verbs"
   ]
  },
  {
   "cell_type": "code",
   "execution_count": 4,
   "id": "d6ce7f4c",
   "metadata": {},
   "outputs": [
    {
     "data": {
      "application/vnd.microsoft.datawrangler.viewer.v0+json": {
       "columns": [
        {
         "name": "index",
         "rawType": "int64",
         "type": "integer"
        },
        {
         "name": "count",
         "rawType": "int64",
         "type": "integer"
        },
        {
         "name": "item",
         "rawType": "object",
         "type": "unknown"
        },
        {
         "name": "construction",
         "rawType": "object",
         "type": "string"
        },
        {
         "name": "tense",
         "rawType": "object",
         "type": "string"
        },
        {
         "name": "AV",
         "rawType": "bool",
         "type": "boolean"
        }
       ],
       "ref": "6951807b-26f6-4e13-b364-24d43dfbd0ea",
       "rows": [
        [
         "0",
         "51",
         "none",
         "ma-TA-V",
         "ma",
         "False"
        ],
        [
         "1",
         "50",
         "none",
         "na-TA-V",
         "na",
         "False"
        ],
        [
         "2",
         "41",
         "kōrero",
         "ma-TA-V",
         "ma",
         "False"
        ],
        [
         "3",
         "31",
         "whakahaere",
         "ma-TA-V",
         "ma",
         "False"
        ],
        [
         "4",
         "27",
         "tangi",
         "na-TA-V",
         "na",
         "False"
        ],
        [
         "5",
         "27",
         "mahi",
         "ma-TA-V",
         "ma",
         "False"
        ],
        [
         "6",
         "20",
         "hanga",
         "na-TA-V",
         "na",
         "False"
        ],
        [
         "7",
         "19",
         "whiriwhiri",
         "ma-TA-V",
         "ma",
         "False"
        ],
        [
         "8",
         "19",
         "titiro",
         "ma-TA-V",
         "ma",
         "False"
        ],
        [
         "9",
         "18",
         "tīmata",
         "na-TA-V",
         "na",
         "False"
        ],
        [
         "10",
         "18",
         "kī",
         "ma-TA-V",
         "ma",
         "False"
        ],
        [
         "11",
         "16",
         "manaaki",
         "ma-det-TA-V",
         "ma",
         "True"
        ],
        [
         "12",
         "16",
         "kawe",
         "ma-TA-V",
         "ma",
         "False"
        ],
        [
         "13",
         "13",
         "whakatau",
         "ma-TA-V",
         "ma",
         "False"
        ],
        [
         "14",
         "13",
         "tuku",
         "na-TA-V",
         "na",
         "False"
        ],
        [
         "15",
         "12",
         "kī",
         "na-TA-V",
         "na",
         "False"
        ],
        [
         "16",
         "11",
         "whakatakoto",
         "ma-TA-V",
         "ma",
         "False"
        ],
        [
         "17",
         "11",
         "tuku",
         "ma-TA-V",
         "ma",
         "False"
        ],
        [
         "18",
         "11",
         "tiaki",
         "ma-TA-V",
         "ma",
         "False"
        ],
        [
         "19",
         "11",
         "kōrero",
         "ma-det-TA-V",
         "ma",
         "True"
        ],
        [
         "20",
         "11",
         "hāpai",
         "ma-TA-V",
         "ma",
         "False"
        ],
        [
         "21",
         "10",
         "āwhina",
         "ma-TA-V",
         "ma",
         "False"
        ],
        [
         "22",
         "10",
         "utu",
         "ma-TA-V",
         "ma",
         "False"
        ],
        [
         "23",
         "10",
         "tautoko",
         "ma-TA-V",
         "ma",
         "False"
        ],
        [
         "24",
         "9",
         "whakatikatika",
         "ma-TA-V",
         "ma",
         "False"
        ],
        [
         "25",
         "9",
         "whakatakoto",
         "na-TA-V",
         "na",
         "False"
        ],
        [
         "26",
         "9",
         "whakahaere",
         "ma-det-TA-V",
         "ma",
         "True"
        ],
        [
         "27",
         "9",
         "whakaatu",
         "ma-TA-V",
         "ma",
         "False"
        ],
        [
         "28",
         "9",
         "rapu",
         "ma-TA-V",
         "ma",
         "False"
        ],
        [
         "29",
         "9",
         "mahi",
         "na-TA-V",
         "na",
         "False"
        ],
        [
         "30",
         "9",
         "kōrero",
         "na-TA-V",
         "na",
         "False"
        ],
        [
         "31",
         "9",
         "hari",
         "ma-TA-V",
         "ma",
         "False"
        ],
        [
         "32",
         "8",
         "whakarite",
         "ma-TA-V",
         "ma",
         "False"
        ],
        [
         "33",
         "8",
         "whakamārama",
         "ma-TA-V",
         "ma",
         "False"
        ],
        [
         "34",
         "8",
         "whakahaere",
         "na-TA-V",
         "na",
         "False"
        ],
        [
         "35",
         "8",
         "tono",
         "na-TA-V",
         "na",
         "False"
        ],
        [
         "36",
         "8",
         "mau",
         "na-TA-V",
         "na",
         "False"
        ],
        [
         "37",
         "8",
         "manaaki",
         "ma-TA-V",
         "ma",
         "False"
        ],
        [
         "38",
         "8",
         "haere",
         "ma-TA-V",
         "ma",
         "False"
        ],
        [
         "39",
         "7",
         "whāngai",
         "ma-TA-V",
         "ma",
         "False"
        ],
        [
         "40",
         "7",
         "whakawā",
         "ma-TA-V",
         "ma",
         "False"
        ],
        [
         "41",
         "7",
         "whakatika",
         "ma-TA-V",
         "ma",
         "False"
        ],
        [
         "42",
         "7",
         "whai",
         "na-TA-V",
         "na",
         "False"
        ],
        [
         "43",
         "7",
         "tango",
         "na-TA-V",
         "na",
         "False"
        ],
        [
         "44",
         "7",
         "hoko",
         "ma-TA-V",
         "ma",
         "False"
        ],
        [
         "45",
         "6",
         "āwhina",
         "ma-det-TA-V",
         "ma",
         "True"
        ],
        [
         "46",
         "6",
         "āta",
         "ma-TA-V",
         "ma",
         "False"
        ],
        [
         "47",
         "6",
         "ārahi",
         "ma-TA-V",
         "ma",
         "False"
        ],
        [
         "48",
         "6",
         "whāngai",
         "na-det-TA-V",
         "na",
         "True"
        ],
        [
         "49",
         "6",
         "whakatō",
         "na-TA-V",
         "na",
         "False"
        ]
       ],
       "shape": {
        "columns": 5,
        "rows": 631
       }
      },
      "text/html": [
       "<div>\n",
       "<style scoped>\n",
       "    .dataframe tbody tr th:only-of-type {\n",
       "        vertical-align: middle;\n",
       "    }\n",
       "\n",
       "    .dataframe tbody tr th {\n",
       "        vertical-align: top;\n",
       "    }\n",
       "\n",
       "    .dataframe thead th {\n",
       "        text-align: right;\n",
       "    }\n",
       "</style>\n",
       "<table border=\"1\" class=\"dataframe\">\n",
       "  <thead>\n",
       "    <tr style=\"text-align: right;\">\n",
       "      <th></th>\n",
       "      <th>count</th>\n",
       "      <th>item</th>\n",
       "      <th>construction</th>\n",
       "      <th>tense</th>\n",
       "      <th>AV</th>\n",
       "    </tr>\n",
       "  </thead>\n",
       "  <tbody>\n",
       "    <tr>\n",
       "      <th>0</th>\n",
       "      <td>51</td>\n",
       "      <td>none</td>\n",
       "      <td>ma-TA-V</td>\n",
       "      <td>ma</td>\n",
       "      <td>False</td>\n",
       "    </tr>\n",
       "    <tr>\n",
       "      <th>1</th>\n",
       "      <td>50</td>\n",
       "      <td>none</td>\n",
       "      <td>na-TA-V</td>\n",
       "      <td>na</td>\n",
       "      <td>False</td>\n",
       "    </tr>\n",
       "    <tr>\n",
       "      <th>2</th>\n",
       "      <td>41</td>\n",
       "      <td>kōrero</td>\n",
       "      <td>ma-TA-V</td>\n",
       "      <td>ma</td>\n",
       "      <td>False</td>\n",
       "    </tr>\n",
       "    <tr>\n",
       "      <th>3</th>\n",
       "      <td>31</td>\n",
       "      <td>whakahaere</td>\n",
       "      <td>ma-TA-V</td>\n",
       "      <td>ma</td>\n",
       "      <td>False</td>\n",
       "    </tr>\n",
       "    <tr>\n",
       "      <th>4</th>\n",
       "      <td>27</td>\n",
       "      <td>tangi</td>\n",
       "      <td>na-TA-V</td>\n",
       "      <td>na</td>\n",
       "      <td>False</td>\n",
       "    </tr>\n",
       "    <tr>\n",
       "      <th>...</th>\n",
       "      <td>...</td>\n",
       "      <td>...</td>\n",
       "      <td>...</td>\n",
       "      <td>...</td>\n",
       "      <td>...</td>\n",
       "    </tr>\n",
       "    <tr>\n",
       "      <th>626</th>\n",
       "      <td>1</td>\n",
       "      <td>arataki</td>\n",
       "      <td>ma-det-TA-V</td>\n",
       "      <td>ma</td>\n",
       "      <td>True</td>\n",
       "    </tr>\n",
       "    <tr>\n",
       "      <th>627</th>\n",
       "      <td>1</td>\n",
       "      <td>anga</td>\n",
       "      <td>ma-TA-V</td>\n",
       "      <td>ma</td>\n",
       "      <td>False</td>\n",
       "    </tr>\n",
       "    <tr>\n",
       "      <th>628</th>\n",
       "      <td>1</td>\n",
       "      <td>akona</td>\n",
       "      <td>na-TA-V</td>\n",
       "      <td>na</td>\n",
       "      <td>False</td>\n",
       "    </tr>\n",
       "    <tr>\n",
       "      <th>629</th>\n",
       "      <td>1</td>\n",
       "      <td>aituāngia</td>\n",
       "      <td>na-TA-V</td>\n",
       "      <td>na</td>\n",
       "      <td>False</td>\n",
       "    </tr>\n",
       "    <tr>\n",
       "      <th>630</th>\n",
       "      <td>1</td>\n",
       "      <td>ahu</td>\n",
       "      <td>na-TA-V</td>\n",
       "      <td>na</td>\n",
       "      <td>False</td>\n",
       "    </tr>\n",
       "  </tbody>\n",
       "</table>\n",
       "<p>631 rows × 5 columns</p>\n",
       "</div>"
      ],
      "text/plain": [
       "     count        item construction tense     AV\n",
       "0       51        none      ma-TA-V    ma  False\n",
       "1       50        none      na-TA-V    na  False\n",
       "2       41      kōrero      ma-TA-V    ma  False\n",
       "3       31  whakahaere      ma-TA-V    ma  False\n",
       "4       27       tangi      na-TA-V    na  False\n",
       "..     ...         ...          ...   ...    ...\n",
       "626      1     arataki  ma-det-TA-V    ma   True\n",
       "627      1        anga      ma-TA-V    ma  False\n",
       "628      1       akona      na-TA-V    na  False\n",
       "629      1   aituāngia      na-TA-V    na  False\n",
       "630      1         ahu      na-TA-V    na  False\n",
       "\n",
       "[631 rows x 5 columns]"
      ]
     },
     "execution_count": 4,
     "metadata": {},
     "output_type": "execute_result"
    }
   ],
   "source": [
    "verbs['tense'] = verbs['construction'].str.split('-').str[0]\n",
    "verbs['AV'] = verbs['construction'].str.split('-').str[1] == 'det'\n",
    "\n",
    "verbs"
   ]
  },
  {
   "cell_type": "code",
   "execution_count": 5,
   "id": "d435372f",
   "metadata": {},
   "outputs": [
    {
     "data": {
      "application/vnd.microsoft.datawrangler.viewer.v0+json": {
       "columns": [
        {
         "name": "item",
         "rawType": "object",
         "type": "string"
        },
        {
         "name": "ma",
         "rawType": "float64",
         "type": "float"
        },
        {
         "name": "na",
         "rawType": "float64",
         "type": "float"
        },
        {
         "name": "Total",
         "rawType": "float64",
         "type": "float"
        }
       ],
       "ref": "e32f1381-f0de-4625-94ee-2d3d023bf336",
       "rows": [
        [
         "none",
         "28.0",
         "27.0",
         "55.0"
        ],
        [
         "kōrero",
         "26.0",
         "5.5",
         "31.5"
        ],
        [
         "tangi",
         null,
         "27.0",
         "27.0"
        ],
        [
         "whakahaere",
         "20.0",
         "5.0",
         "25.0"
        ],
        [
         "mahi",
         "15.0",
         "9.0",
         "24.0"
        ],
        [
         "kī",
         "10.0",
         "12.0",
         "22.0"
        ],
        [
         "whiriwhiri",
         "19.0",
         "2.0",
         "21.0"
        ],
        [
         "whakatakoto",
         "6.0",
         "9.0",
         "15.0"
        ],
        [
         "hanga",
         "3.0",
         "11.5",
         "14.5"
        ],
        [
         "tuku",
         "6.0",
         "8.0",
         "14.0"
        ],
        [
         "manaaki",
         "12.0",
         "1.5",
         "13.5"
        ],
        [
         "titiro",
         "11.5",
         "1.5",
         "13.0"
        ],
        [
         "haere",
         "8.0",
         "4.0",
         "12.0"
        ],
        [
         "tīmata",
         "2.0",
         "10.0",
         "12.0"
        ],
        [
         "āwhina",
         "8.0",
         "3.0",
         "11.0"
        ],
        [
         "rapu",
         "9.0",
         "2.0",
         "11.0"
        ],
        [
         "kawe",
         "8.5",
         "2.5",
         "11.0"
        ],
        [
         "whakatikatika",
         "9.0",
         "2.0",
         "11.0"
        ],
        [
         "whakatau",
         "7.5",
         "3.5",
         "11.0"
        ],
        [
         "whāngai",
         "5.0",
         "5.5",
         "10.5"
        ],
        [
         "hoatu",
         "6.0",
         "4.0",
         "10.0"
        ],
        [
         "whakarite",
         "7.0",
         "3.0",
         "10.0"
        ],
        [
         "utu",
         "10.0",
         null,
         "10.0"
        ],
        [
         "mau",
         "4.0",
         "5.5",
         "9.5"
        ],
        [
         "whakatuwhera",
         "6.0",
         "3.5",
         "9.5"
        ],
        [
         "hāpai",
         "7.0",
         "2.0",
         "9.0"
        ],
        [
         "homai",
         "3.0",
         "6.0",
         "9.0"
        ],
        [
         "hoko",
         "4.0",
         "5.0",
         "9.0"
        ],
        [
         "tiaki",
         "6.5",
         "2.5",
         "9.0"
        ],
        [
         "tautoko",
         "7.0",
         "2.0",
         "9.0"
        ],
        [
         "ako",
         "4.0",
         "5.0",
         "9.0"
        ],
        [
         "hari",
         "6.0",
         "2.5",
         "8.5"
        ],
        [
         "whai",
         "1.5",
         "7.0",
         "8.5"
        ],
        [
         "āta",
         "3.5",
         "5.0",
         "8.5"
        ],
        [
         "noho",
         "6.0",
         "2.0",
         "8.0"
        ],
        [
         "whakawātea",
         "5.0",
         "3.0",
         "8.0"
        ],
        [
         "tono",
         "3.0",
         "5.0",
         "8.0"
        ],
        [
         "tango",
         "1.0",
         "7.0",
         "8.0"
        ],
        [
         "whakaatu",
         "6.0",
         "2.0",
         "8.0"
        ],
        [
         "kimi",
         "5.0",
         "3.0",
         "8.0"
        ],
        [
         "tirotiro",
         "6.0",
         "1.0",
         "7.0"
        ],
        [
         "takahi",
         "2.0",
         "5.0",
         "7.0"
        ],
        [
         "kite",
         "2.0",
         "5.0",
         "7.0"
        ],
        [
         "tuhi",
         "2.0",
         "5.0",
         "7.0"
        ],
        [
         "whakatika",
         "7.0",
         null,
         "7.0"
        ],
        [
         "whakaae",
         "2.0",
         "5.0",
         "7.0"
        ],
        [
         "whaka-",
         "5.0",
         "2.0",
         "7.0"
        ],
        [
         "whakaputa",
         "3.0",
         "4.0",
         "7.0"
        ],
        [
         "ārahi",
         "4.5",
         "2.0",
         "6.5"
        ],
        [
         "karanga",
         "4.0",
         "2.5",
         "6.5"
        ]
       ],
       "shape": {
        "columns": 3,
        "rows": 409
       }
      },
      "text/html": [
       "<div>\n",
       "<style scoped>\n",
       "    .dataframe tbody tr th:only-of-type {\n",
       "        vertical-align: middle;\n",
       "    }\n",
       "\n",
       "    .dataframe tbody tr th {\n",
       "        vertical-align: top;\n",
       "    }\n",
       "\n",
       "    .dataframe thead th {\n",
       "        text-align: right;\n",
       "    }\n",
       "</style>\n",
       "<table border=\"1\" class=\"dataframe\">\n",
       "  <thead>\n",
       "    <tr style=\"text-align: right;\">\n",
       "      <th>tense</th>\n",
       "      <th>ma</th>\n",
       "      <th>na</th>\n",
       "      <th>Total</th>\n",
       "    </tr>\n",
       "    <tr>\n",
       "      <th>item</th>\n",
       "      <th></th>\n",
       "      <th></th>\n",
       "      <th></th>\n",
       "    </tr>\n",
       "  </thead>\n",
       "  <tbody>\n",
       "    <tr>\n",
       "      <th>none</th>\n",
       "      <td>28.0</td>\n",
       "      <td>27.0</td>\n",
       "      <td>55.0</td>\n",
       "    </tr>\n",
       "    <tr>\n",
       "      <th>kōrero</th>\n",
       "      <td>26.0</td>\n",
       "      <td>5.5</td>\n",
       "      <td>31.5</td>\n",
       "    </tr>\n",
       "    <tr>\n",
       "      <th>tangi</th>\n",
       "      <td>NaN</td>\n",
       "      <td>27.0</td>\n",
       "      <td>27.0</td>\n",
       "    </tr>\n",
       "    <tr>\n",
       "      <th>whakahaere</th>\n",
       "      <td>20.0</td>\n",
       "      <td>5.0</td>\n",
       "      <td>25.0</td>\n",
       "    </tr>\n",
       "    <tr>\n",
       "      <th>mahi</th>\n",
       "      <td>15.0</td>\n",
       "      <td>9.0</td>\n",
       "      <td>24.0</td>\n",
       "    </tr>\n",
       "    <tr>\n",
       "      <th>...</th>\n",
       "      <td>...</td>\n",
       "      <td>...</td>\n",
       "      <td>...</td>\n",
       "    </tr>\n",
       "    <tr>\n",
       "      <th>tahuna</th>\n",
       "      <td>NaN</td>\n",
       "      <td>1.0</td>\n",
       "      <td>1.0</td>\n",
       "    </tr>\n",
       "    <tr>\n",
       "      <th>tahitahi</th>\n",
       "      <td>1.0</td>\n",
       "      <td>NaN</td>\n",
       "      <td>1.0</td>\n",
       "    </tr>\n",
       "    <tr>\n",
       "      <th>rūātoki</th>\n",
       "      <td>NaN</td>\n",
       "      <td>1.0</td>\n",
       "      <td>1.0</td>\n",
       "    </tr>\n",
       "    <tr>\n",
       "      <th>rūrū</th>\n",
       "      <td>1.0</td>\n",
       "      <td>NaN</td>\n",
       "      <td>1.0</td>\n",
       "    </tr>\n",
       "    <tr>\n",
       "      <th>tiki-rau</th>\n",
       "      <td>NaN</td>\n",
       "      <td>1.0</td>\n",
       "      <td>1.0</td>\n",
       "    </tr>\n",
       "  </tbody>\n",
       "</table>\n",
       "<p>409 rows × 3 columns</p>\n",
       "</div>"
      ],
      "text/plain": [
       "tense         ma    na  Total\n",
       "item                         \n",
       "none        28.0  27.0   55.0\n",
       "kōrero      26.0   5.5   31.5\n",
       "tangi        NaN  27.0   27.0\n",
       "whakahaere  20.0   5.0   25.0\n",
       "mahi        15.0   9.0   24.0\n",
       "...          ...   ...    ...\n",
       "tahuna       NaN   1.0    1.0\n",
       "tahitahi     1.0   NaN    1.0\n",
       "rūātoki      NaN   1.0    1.0\n",
       "rūrū         1.0   NaN    1.0\n",
       "tiki-rau     NaN   1.0    1.0\n",
       "\n",
       "[409 rows x 3 columns]"
      ]
     },
     "execution_count": 5,
     "metadata": {},
     "output_type": "execute_result"
    }
   ],
   "source": [
    "tense = verbs.pivot_table(columns='tense', values='count', index='item')\n",
    "tense['Total'] = tense.sum(axis=1)\n",
    "\n",
    "tense.sort_values(by='Total', ascending=False)"
   ]
  },
  {
   "cell_type": "code",
   "execution_count": 6,
   "id": "0ebf0af8",
   "metadata": {},
   "outputs": [
    {
     "data": {
      "application/vnd.microsoft.datawrangler.viewer.v0+json": {
       "columns": [
        {
         "name": "item",
         "rawType": "object",
         "type": "string"
        },
        {
         "name": "False",
         "rawType": "float64",
         "type": "float"
        },
        {
         "name": "True",
         "rawType": "float64",
         "type": "float"
        },
        {
         "name": "Total",
         "rawType": "float64",
         "type": "float"
        }
       ],
       "ref": "c0af851b-6a27-445d-ae0a-d00f8774c19b",
       "rows": [
        [
         "none",
         "50.5",
         "4.5",
         "55.0"
        ],
        [
         "kōrero",
         "25.0",
         "6.5",
         "31.5"
        ],
        [
         "tangi",
         "27.0",
         null,
         "27.0"
        ],
        [
         "whakahaere",
         "19.5",
         "5.5",
         "25.0"
        ],
        [
         "mahi",
         "18.0",
         "3.0",
         "21.0"
        ],
        [
         "kī",
         "15.0",
         "2.0",
         "17.0"
        ],
        [
         "hanga",
         "12.5",
         "2.0",
         "14.5"
        ],
        [
         "tuku",
         "12.0",
         "2.0",
         "14.0"
        ],
        [
         "manaaki",
         "4.5",
         "9.0",
         "13.5"
        ],
        [
         "titiro",
         "10.5",
         "2.5",
         "13.0"
        ],
        [
         "tautoko",
         "10.0",
         "3.0",
         "13.0"
        ],
        [
         "tīmata",
         "10.5",
         "1.5",
         "12.0"
        ],
        [
         "whakarite",
         "5.5",
         "6.0",
         "11.5"
        ],
        [
         "whakatau",
         "9.5",
         "1.5",
         "11.0"
        ],
        [
         "āwhina",
         "7.5",
         "3.5",
         "11.0"
        ],
        [
         "kawe",
         "10.0",
         "1.0",
         "11.0"
        ],
        [
         "whakatakoto",
         "10.0",
         "1.0",
         "11.0"
        ],
        [
         "whiriwhiri",
         "10.5",
         null,
         "10.5"
        ],
        [
         "whāngai",
         "6.0",
         "4.5",
         "10.5"
        ],
        [
         "utu",
         "10.0",
         null,
         "10.0"
        ],
        [
         "hāpai",
         "6.5",
         "3.0",
         "9.5"
        ],
        [
         "mau",
         "7.0",
         "2.5",
         "9.5"
        ],
        [
         "ako",
         "4.5",
         "4.5",
         "9.0"
        ],
        [
         "tiaki",
         "7.5",
         "1.5",
         "9.0"
        ],
        [
         "hari",
         "6.0",
         "2.5",
         "8.5"
        ],
        [
         "whakaatu",
         "5.5",
         "3.0",
         "8.5"
        ],
        [
         "whakawā",
         "7.0",
         "1.0",
         "8.0"
        ],
        [
         "tono",
         "6.5",
         "1.5",
         "8.0"
        ],
        [
         "whakatuwhera",
         "5.5",
         "2.0",
         "7.5"
        ],
        [
         "whakatō",
         "6.0",
         "1.0",
         "7.0"
        ],
        [
         "hoko",
         "6.0",
         "1.0",
         "7.0"
        ],
        [
         "whakatika",
         "7.0",
         null,
         "7.0"
        ],
        [
         "ārahi",
         "4.0",
         "2.5",
         "6.5"
        ],
        [
         "whakamārama",
         "5.0",
         "1.5",
         "6.5"
        ],
        [
         "homai",
         "5.5",
         "1.0",
         "6.5"
        ],
        [
         "tohutohu",
         "2.5",
         "4.0",
         "6.5"
        ],
        [
         "āta",
         "5.5",
         "1.0",
         "6.5"
        ],
        [
         "whakaoti",
         "4.0",
         "2.0",
         "6.0"
        ],
        [
         "haere",
         "6.0",
         null,
         "6.0"
        ],
        [
         "karanga",
         "3.0",
         "3.0",
         "6.0"
        ],
        [
         "whai",
         "4.0",
         "2.0",
         "6.0"
        ],
        [
         "kōhuru",
         "6.0",
         null,
         "6.0"
        ],
        [
         "whakarangatira",
         "4.0",
         "2.0",
         "6.0"
        ],
        [
         "whakatikatika",
         "5.5",
         null,
         "5.5"
        ],
        [
         "rapu",
         "5.5",
         null,
         "5.5"
        ],
        [
         "whakaputa",
         "4.5",
         "1.0",
         "5.5"
        ],
        [
         "tohu",
         "3.0",
         "2.0",
         "5.0"
        ],
        [
         "whakatū",
         "4.0",
         "1.0",
         "5.0"
        ],
        [
         "pōhiri",
         "4.0",
         "1.0",
         "5.0"
        ],
        [
         "whakautu",
         "2.0",
         "3.0",
         "5.0"
        ]
       ],
       "shape": {
        "columns": 3,
        "rows": 409
       }
      },
      "text/html": [
       "<div>\n",
       "<style scoped>\n",
       "    .dataframe tbody tr th:only-of-type {\n",
       "        vertical-align: middle;\n",
       "    }\n",
       "\n",
       "    .dataframe tbody tr th {\n",
       "        vertical-align: top;\n",
       "    }\n",
       "\n",
       "    .dataframe thead th {\n",
       "        text-align: right;\n",
       "    }\n",
       "</style>\n",
       "<table border=\"1\" class=\"dataframe\">\n",
       "  <thead>\n",
       "    <tr style=\"text-align: right;\">\n",
       "      <th>AV</th>\n",
       "      <th>False</th>\n",
       "      <th>True</th>\n",
       "      <th>Total</th>\n",
       "    </tr>\n",
       "    <tr>\n",
       "      <th>item</th>\n",
       "      <th></th>\n",
       "      <th></th>\n",
       "      <th></th>\n",
       "    </tr>\n",
       "  </thead>\n",
       "  <tbody>\n",
       "    <tr>\n",
       "      <th>none</th>\n",
       "      <td>50.5</td>\n",
       "      <td>4.5</td>\n",
       "      <td>55.0</td>\n",
       "    </tr>\n",
       "    <tr>\n",
       "      <th>kōrero</th>\n",
       "      <td>25.0</td>\n",
       "      <td>6.5</td>\n",
       "      <td>31.5</td>\n",
       "    </tr>\n",
       "    <tr>\n",
       "      <th>tangi</th>\n",
       "      <td>27.0</td>\n",
       "      <td>NaN</td>\n",
       "      <td>27.0</td>\n",
       "    </tr>\n",
       "    <tr>\n",
       "      <th>whakahaere</th>\n",
       "      <td>19.5</td>\n",
       "      <td>5.5</td>\n",
       "      <td>25.0</td>\n",
       "    </tr>\n",
       "    <tr>\n",
       "      <th>mahi</th>\n",
       "      <td>18.0</td>\n",
       "      <td>3.0</td>\n",
       "      <td>21.0</td>\n",
       "    </tr>\n",
       "    <tr>\n",
       "      <th>...</th>\n",
       "      <td>...</td>\n",
       "      <td>...</td>\n",
       "      <td>...</td>\n",
       "    </tr>\n",
       "    <tr>\n",
       "      <th>tahitahi</th>\n",
       "      <td>1.0</td>\n",
       "      <td>NaN</td>\n",
       "      <td>1.0</td>\n",
       "    </tr>\n",
       "    <tr>\n",
       "      <th>rūātoki</th>\n",
       "      <td>1.0</td>\n",
       "      <td>NaN</td>\n",
       "      <td>1.0</td>\n",
       "    </tr>\n",
       "    <tr>\n",
       "      <th>rūrū</th>\n",
       "      <td>1.0</td>\n",
       "      <td>NaN</td>\n",
       "      <td>1.0</td>\n",
       "    </tr>\n",
       "    <tr>\n",
       "      <th>rūkahu</th>\n",
       "      <td>1.0</td>\n",
       "      <td>NaN</td>\n",
       "      <td>1.0</td>\n",
       "    </tr>\n",
       "    <tr>\n",
       "      <th>ū</th>\n",
       "      <td>1.0</td>\n",
       "      <td>NaN</td>\n",
       "      <td>1.0</td>\n",
       "    </tr>\n",
       "  </tbody>\n",
       "</table>\n",
       "<p>409 rows × 3 columns</p>\n",
       "</div>"
      ],
      "text/plain": [
       "AV          False  True  Total\n",
       "item                          \n",
       "none         50.5   4.5   55.0\n",
       "kōrero       25.0   6.5   31.5\n",
       "tangi        27.0   NaN   27.0\n",
       "whakahaere   19.5   5.5   25.0\n",
       "mahi         18.0   3.0   21.0\n",
       "...           ...   ...    ...\n",
       "tahitahi      1.0   NaN    1.0\n",
       "rūātoki       1.0   NaN    1.0\n",
       "rūrū          1.0   NaN    1.0\n",
       "rūkahu        1.0   NaN    1.0\n",
       "ū             1.0   NaN    1.0\n",
       "\n",
       "[409 rows x 3 columns]"
      ]
     },
     "execution_count": 6,
     "metadata": {},
     "output_type": "execute_result"
    }
   ],
   "source": [
    "order = verbs.pivot_table(columns='AV', values='count', index='item')\n",
    "order['Total'] = order.sum(axis=1)\n",
    "\n",
    "order.sort_values(by='Total', ascending=False)"
   ]
  },
  {
   "cell_type": "code",
   "execution_count": 7,
   "id": "76c940a8",
   "metadata": {},
   "outputs": [
    {
     "name": "stdout",
     "output_type": "stream",
     "text": [
      "AV              False      True     Total\n",
      "item                                     \n",
      "manaaki      0.004886  0.046392  0.012108\n",
      "kōrero       0.027144  0.033505  0.028251\n",
      "whakarite    0.005972  0.030928  0.010314\n",
      "whakahaere   0.021173  0.028351  0.022422\n",
      "ako          0.004886  0.023196  0.008072\n",
      "...               ...       ...       ...\n",
      "āhua         0.001629       NaN  0.001345\n",
      "āwherika     0.001086       NaN  0.000897\n",
      "āwhinatia    0.001086       NaN  0.000897\n",
      "ō-maru-mutu  0.001086       NaN  0.000897\n",
      "ū            0.001086       NaN  0.000897\n",
      "\n",
      "[409 rows x 3 columns]\n"
     ]
    },
    {
     "data": {
      "image/png": "[encoded data removed]",
      "text/plain": [
       "<Figure size 640x480 with 1 Axes>"
      ]
     },
     "metadata": {},
     "output_type": "display_data"
    }
   ],
   "source": [
    "import matplotlib.pyplot as plt\n",
    "\n",
    "\n",
    "chart = order / order.sum(axis=0)\n",
    "print(chart.sort_values(by=True, ascending=False))\n",
    "\n",
    "plt.scatter(chart[False], chart[True])\n",
    "plt.title('Order of Subject and Verb')\n",
    "plt.xlabel('Verb-Subject')\n",
    "plt.ylabel('Subject-Verb')\n",
    "plt.grid()"
   ]
  },
  {
   "cell_type": "code",
   "execution_count": 8,
   "id": "d906d187",
   "metadata": {},
   "outputs": [
    {
     "data": {
      "application/vnd.microsoft.datawrangler.viewer.v0+json": {
       "columns": [
        {
         "name": "item",
         "rawType": "object",
         "type": "string"
        },
        {
         "name": "ma",
         "rawType": "float64",
         "type": "float"
        },
        {
         "name": "na",
         "rawType": "float64",
         "type": "float"
        },
        {
         "name": "Total",
         "rawType": "float64",
         "type": "float"
        }
       ],
       "ref": "490405d7-d715-4e18-ac56-e34cfc10be9c",
       "rows": [
        [
         "none",
         "0.04375",
         "0.04576271186440678",
         "0.044715447154471545"
        ],
        [
         "kōrero",
         "0.040625",
         "0.009322033898305085",
         "0.025609756097560974"
        ],
        [
         "whakahaere",
         "0.03125",
         "0.00847457627118644",
         "0.02032520325203252"
        ],
        [
         "whiriwhiri",
         "0.0296875",
         "0.003389830508474576",
         "0.01707317073170732"
        ],
        [
         "mahi",
         "0.0234375",
         "0.015254237288135594",
         "0.01951219512195122"
        ],
        [
         "manaaki",
         "0.01875",
         "0.002542372881355932",
         "0.01097560975609756"
        ],
        [
         "titiro",
         "0.01796875",
         "0.002542372881355932",
         "0.01056910569105691"
        ],
        [
         "utu",
         "0.015625",
         null,
         "0.008130081300813009"
        ],
        [
         "kī",
         "0.015625",
         "0.020338983050847456",
         "0.01788617886178862"
        ],
        [
         "rapu",
         "0.0140625",
         "0.003389830508474576",
         "0.00894308943089431"
        ],
        [
         "whakatikatika",
         "0.0140625",
         "0.003389830508474576",
         "0.00894308943089431"
        ],
        [
         "kawe",
         "0.01328125",
         "0.00423728813559322",
         "0.00894308943089431"
        ],
        [
         "āwhina",
         "0.0125",
         "0.005084745762711864",
         "0.00894308943089431"
        ],
        [
         "haere",
         "0.0125",
         "0.006779661016949152",
         "0.00975609756097561"
        ],
        [
         "whakatau",
         "0.01171875",
         "0.005932203389830509",
         "0.00894308943089431"
        ],
        [
         "tautoko",
         "0.0109375",
         "0.003389830508474576",
         "0.007317073170731708"
        ],
        [
         "hāpai",
         "0.0109375",
         "0.003389830508474576",
         "0.007317073170731708"
        ],
        [
         "whakatika",
         "0.0109375",
         null,
         "0.005691056910569106"
        ],
        [
         "whakarite",
         "0.0109375",
         "0.005084745762711864",
         "0.008130081300813009"
        ],
        [
         "tiaki",
         "0.01015625",
         "0.00423728813559322",
         "0.007317073170731708"
        ],
        [
         "whakatakoto",
         "0.009375",
         "0.015254237288135594",
         "0.012195121951219513"
        ],
        [
         "whakatuwhera",
         "0.009375",
         "0.005932203389830509",
         "0.007723577235772358"
        ],
        [
         "noho",
         "0.009375",
         "0.003389830508474576",
         "0.0065040650406504065"
        ],
        [
         "hoatu",
         "0.009375",
         "0.006779661016949152",
         "0.008130081300813009"
        ],
        [
         "tirotiro",
         "0.009375",
         "0.001694915254237288",
         "0.005691056910569106"
        ],
        [
         "whakaatu",
         "0.009375",
         "0.003389830508474576",
         "0.0065040650406504065"
        ],
        [
         "tuku",
         "0.009375",
         "0.013559322033898305",
         "0.011382113821138212"
        ],
        [
         "hari",
         "0.009375",
         "0.00423728813559322",
         "0.006910569105691057"
        ],
        [
         "whakamārama",
         "0.0078125",
         "0.002542372881355932",
         "0.005284552845528455"
        ],
        [
         "whakawātea",
         "0.0078125",
         "0.005084745762711864",
         "0.0065040650406504065"
        ],
        [
         "whāngai",
         "0.0078125",
         "0.009322033898305085",
         "0.00853658536585366"
        ],
        [
         "kimi",
         "0.0078125",
         "0.005084745762711864",
         "0.0065040650406504065"
        ],
        [
         "whaka-",
         "0.0078125",
         "0.003389830508474576",
         "0.005691056910569106"
        ],
        [
         "tū",
         "0.0078125",
         "0.001694915254237288",
         "0.004878048780487805"
        ],
        [
         "ārahi",
         "0.00703125",
         "0.003389830508474576",
         "0.005284552845528455"
        ],
        [
         "pā",
         "0.00625",
         "0.002542372881355932",
         "0.004471544715447155"
        ],
        [
         "tohutohu",
         "0.00625",
         "0.001694915254237288",
         "0.0040650406504065045"
        ],
        [
         "tohu",
         "0.00625",
         "0.003389830508474576",
         "0.004878048780487805"
        ],
        [
         "mau",
         "0.00625",
         "0.009322033898305085",
         "0.007723577235772358"
        ],
        [
         "karanga",
         "0.00625",
         "0.00423728813559322",
         "0.005284552845528455"
        ],
        [
         "waiata",
         "0.00625",
         null,
         "0.0032520325203252032"
        ],
        [
         "whakaoti",
         "0.00625",
         "0.003389830508474576",
         "0.004878048780487805"
        ],
        [
         "ako",
         "0.00625",
         "0.00847457627118644",
         "0.007317073170731708"
        ],
        [
         "kai",
         "0.00625",
         null,
         "0.0032520325203252032"
        ],
        [
         "whakawā",
         "0.00625",
         null,
         "0.0032520325203252032"
        ],
        [
         "hoko",
         "0.00625",
         "0.00847457627118644",
         "0.007317073170731708"
        ],
        [
         "hiki",
         "0.00546875",
         "0.001694915254237288",
         "0.003658536585365854"
        ],
        [
         "āta",
         "0.00546875",
         "0.00847457627118644",
         "0.006910569105691057"
        ],
        [
         "mihi",
         "0.0046875",
         "0.003389830508474576",
         "0.0040650406504065045"
        ],
        [
         "whakaputa",
         "0.0046875",
         "0.006779661016949152",
         "0.005691056910569106"
        ]
       ],
       "shape": {
        "columns": 3,
        "rows": 409
       }
      },
      "text/html": [
       "<div>\n",
       "<style scoped>\n",
       "    .dataframe tbody tr th:only-of-type {\n",
       "        vertical-align: middle;\n",
       "    }\n",
       "\n",
       "    .dataframe tbody tr th {\n",
       "        vertical-align: top;\n",
       "    }\n",
       "\n",
       "    .dataframe thead th {\n",
       "        text-align: right;\n",
       "    }\n",
       "</style>\n",
       "<table border=\"1\" class=\"dataframe\">\n",
       "  <thead>\n",
       "    <tr style=\"text-align: right;\">\n",
       "      <th>tense</th>\n",
       "      <th>ma</th>\n",
       "      <th>na</th>\n",
       "      <th>Total</th>\n",
       "    </tr>\n",
       "    <tr>\n",
       "      <th>item</th>\n",
       "      <th></th>\n",
       "      <th></th>\n",
       "      <th></th>\n",
       "    </tr>\n",
       "  </thead>\n",
       "  <tbody>\n",
       "    <tr>\n",
       "      <th>none</th>\n",
       "      <td>0.043750</td>\n",
       "      <td>0.045763</td>\n",
       "      <td>0.044715</td>\n",
       "    </tr>\n",
       "    <tr>\n",
       "      <th>kōrero</th>\n",
       "      <td>0.040625</td>\n",
       "      <td>0.009322</td>\n",
       "      <td>0.025610</td>\n",
       "    </tr>\n",
       "    <tr>\n",
       "      <th>whakahaere</th>\n",
       "      <td>0.031250</td>\n",
       "      <td>0.008475</td>\n",
       "      <td>0.020325</td>\n",
       "    </tr>\n",
       "    <tr>\n",
       "      <th>whiriwhiri</th>\n",
       "      <td>0.029687</td>\n",
       "      <td>0.003390</td>\n",
       "      <td>0.017073</td>\n",
       "    </tr>\n",
       "    <tr>\n",
       "      <th>mahi</th>\n",
       "      <td>0.023438</td>\n",
       "      <td>0.015254</td>\n",
       "      <td>0.019512</td>\n",
       "    </tr>\n",
       "    <tr>\n",
       "      <th>...</th>\n",
       "      <td>...</td>\n",
       "      <td>...</td>\n",
       "      <td>...</td>\n",
       "    </tr>\n",
       "    <tr>\n",
       "      <th>wā</th>\n",
       "      <td>NaN</td>\n",
       "      <td>0.001695</td>\n",
       "      <td>0.000813</td>\n",
       "    </tr>\n",
       "    <tr>\n",
       "      <th>wāwāhi</th>\n",
       "      <td>NaN</td>\n",
       "      <td>0.001695</td>\n",
       "      <td>0.000813</td>\n",
       "    </tr>\n",
       "    <tr>\n",
       "      <th>āwherika</th>\n",
       "      <td>NaN</td>\n",
       "      <td>0.001695</td>\n",
       "      <td>0.000813</td>\n",
       "    </tr>\n",
       "    <tr>\n",
       "      <th>āwhinatia</th>\n",
       "      <td>NaN</td>\n",
       "      <td>0.001695</td>\n",
       "      <td>0.000813</td>\n",
       "    </tr>\n",
       "    <tr>\n",
       "      <th>ōrite</th>\n",
       "      <td>NaN</td>\n",
       "      <td>0.001695</td>\n",
       "      <td>0.000813</td>\n",
       "    </tr>\n",
       "  </tbody>\n",
       "</table>\n",
       "<p>409 rows × 3 columns</p>\n",
       "</div>"
      ],
      "text/plain": [
       "tense             ma        na     Total\n",
       "item                                    \n",
       "none        0.043750  0.045763  0.044715\n",
       "kōrero      0.040625  0.009322  0.025610\n",
       "whakahaere  0.031250  0.008475  0.020325\n",
       "whiriwhiri  0.029687  0.003390  0.017073\n",
       "mahi        0.023438  0.015254  0.019512\n",
       "...              ...       ...       ...\n",
       "wā               NaN  0.001695  0.000813\n",
       "wāwāhi           NaN  0.001695  0.000813\n",
       "āwherika         NaN  0.001695  0.000813\n",
       "āwhinatia        NaN  0.001695  0.000813\n",
       "ōrite            NaN  0.001695  0.000813\n",
       "\n",
       "[409 rows x 3 columns]"
      ]
     },
     "metadata": {},
     "output_type": "display_data"
    },
    {
     "data": {
      "image/png": "[encoded data removed]",
      "text/plain": [
       "<Figure size 640x480 with 1 Axes>"
      ]
     },
     "metadata": {},
     "output_type": "display_data"
    }
   ],
   "source": [
    "chart = tense / tense.sum(axis=0)\n",
    "display(chart.sort_values(by='ma', ascending=False))\n",
    "\n",
    "plt.scatter(chart['ma'], chart['na'])\n",
    "plt.title('Tense of Construction')\n",
    "plt.xlabel('MA')\n",
    "plt.ylabel('NA')\n",
    "plt.grid()"
   ]
  },
  {
   "cell_type": "code",
   "execution_count": 9,
   "id": "51623225",
   "metadata": {},
   "outputs": [
    {
     "data": {
      "application/vnd.microsoft.datawrangler.viewer.v0+json": {
       "columns": [
        {
         "name": "index",
         "rawType": "object",
         "type": "string"
        },
        {
         "name": "count",
         "rawType": "int64",
         "type": "integer"
        }
       ],
       "ref": "8c66f17f-50b7-4e9e-83a3-6503e47fbbf2",
       "rows": [
        [
         "ka-S",
         "6849"
        ],
        [
         "ka-S-ki",
         "1167"
        ],
        [
         "ka-ki",
         "1131"
        ],
        [
         "ka-i",
         "734"
        ],
        [
         "ka-e",
         "716"
        ],
        [
         "ka-S-i",
         "646"
        ],
        [
         "ka-e-S",
         "326"
        ],
        [
         "ka-i-S",
         "161"
        ],
        [
         "ka-ki-S",
         "153"
        ],
        [
         "ka-ki-i",
         "81"
        ],
        [
         "ka-S-e",
         "65"
        ],
        [
         "ka-e-ki",
         "48"
        ],
        [
         "ka-i-ki",
         "29"
        ],
        [
         "ka-ki-e",
         "6"
        ]
       ],
       "shape": {
        "columns": 1,
        "rows": 14
       }
      },
      "text/html": [
       "<div>\n",
       "<style scoped>\n",
       "    .dataframe tbody tr th:only-of-type {\n",
       "        vertical-align: middle;\n",
       "    }\n",
       "\n",
       "    .dataframe tbody tr th {\n",
       "        vertical-align: top;\n",
       "    }\n",
       "\n",
       "    .dataframe thead th {\n",
       "        text-align: right;\n",
       "    }\n",
       "</style>\n",
       "<table border=\"1\" class=\"dataframe\">\n",
       "  <thead>\n",
       "    <tr style=\"text-align: right;\">\n",
       "      <th></th>\n",
       "      <th>count</th>\n",
       "    </tr>\n",
       "  </thead>\n",
       "  <tbody>\n",
       "    <tr>\n",
       "      <th>ka-S</th>\n",
       "      <td>6849</td>\n",
       "    </tr>\n",
       "    <tr>\n",
       "      <th>ka-S-ki</th>\n",
       "      <td>1167</td>\n",
       "    </tr>\n",
       "    <tr>\n",
       "      <th>ka-ki</th>\n",
       "      <td>1131</td>\n",
       "    </tr>\n",
       "    <tr>\n",
       "      <th>ka-i</th>\n",
       "      <td>734</td>\n",
       "    </tr>\n",
       "    <tr>\n",
       "      <th>ka-e</th>\n",
       "      <td>716</td>\n",
       "    </tr>\n",
       "    <tr>\n",
       "      <th>ka-S-i</th>\n",
       "      <td>646</td>\n",
       "    </tr>\n",
       "    <tr>\n",
       "      <th>ka-e-S</th>\n",
       "      <td>326</td>\n",
       "    </tr>\n",
       "    <tr>\n",
       "      <th>ka-i-S</th>\n",
       "      <td>161</td>\n",
       "    </tr>\n",
       "    <tr>\n",
       "      <th>ka-ki-S</th>\n",
       "      <td>153</td>\n",
       "    </tr>\n",
       "    <tr>\n",
       "      <th>ka-ki-i</th>\n",
       "      <td>81</td>\n",
       "    </tr>\n",
       "    <tr>\n",
       "      <th>ka-S-e</th>\n",
       "      <td>65</td>\n",
       "    </tr>\n",
       "    <tr>\n",
       "      <th>ka-e-ki</th>\n",
       "      <td>48</td>\n",
       "    </tr>\n",
       "    <tr>\n",
       "      <th>ka-i-ki</th>\n",
       "      <td>29</td>\n",
       "    </tr>\n",
       "    <tr>\n",
       "      <th>ka-ki-e</th>\n",
       "      <td>6</td>\n",
       "    </tr>\n",
       "  </tbody>\n",
       "</table>\n",
       "</div>"
      ],
      "text/plain": [
       "         count\n",
       "ka-S      6849\n",
       "ka-S-ki   1167\n",
       "ka-ki     1131\n",
       "ka-i       734\n",
       "ka-e       716\n",
       "ka-S-i     646\n",
       "ka-e-S     326\n",
       "ka-i-S     161\n",
       "ka-ki-S    153\n",
       "ka-ki-i     81\n",
       "ka-S-e      65\n",
       "ka-e-ki     48\n",
       "ka-i-ki     29\n",
       "ka-ki-e      6"
      ]
     },
     "metadata": {},
     "output_type": "display_data"
    }
   ],
   "source": [
    "import os\n",
    "\n",
    "n = 1\n",
    "queries = [f[:-4] for f in os.listdir('output/results') if f.startswith('ka') and len(f.split('-')) > n]\n",
    "\n",
    "bases = pd.DataFrame.from_dict(orient='index', columns=['count'], data={\n",
    "    i: sum(1 for _ in open(f'output/results/{i}.txt'))\n",
    "    for i in queries\n",
    "}).sort_values(by='count', ascending=False)\n",
    "\n",
    "display(bases)\n",
    "\n",
    "if 'ka' in bases.T.columns:\n",
    "    (bases / bases.T['ka']).plot(kind='bar', title='Proportion of total in each query')\n",
    "\n",
    "plt.show()"
   ]
  },
  {
   "cell_type": "code",
   "execution_count": 10,
   "id": "3d5d67d8",
   "metadata": {},
   "outputs": [
    {
     "data": {
      "image/png": "[encoded data removed]",
      "text/plain": [
       "<Figure size 640x480 with 6 Axes>"
      ]
     },
     "metadata": {},
     "output_type": "display_data"
    }
   ],
   "source": [
    "fig, ax = plt.subplots(ncols=3, nrows=2, sharey=True)\n",
    "\n",
    "fig.suptitle('Distribution of results by type of prefix')\n",
    "\n",
    "(bases[bases.index.str.startswith('ka-S')] / bases.T['ka-S']).plot(\n",
    "    ax=ax[0,0],\n",
    "    kind='bar'\n",
    ")\n",
    "\n",
    "(bases[bases.index.str.startswith('ka-i')] / bases.T['ka-i']).plot(\n",
    "    ax=ax[1,0],\n",
    "    kind='bar'\n",
    ")\n",
    "\n",
    "(bases[bases.index.str.startswith('ka-e')] / bases.T['ka-e']).plot(\n",
    "    ax = ax[1,1],\n",
    "    kind='bar'\n",
    ")\n",
    "\n",
    "(bases[bases.index.str.startswith('ka-ki')] / bases.T['ka-ki']).plot(\n",
    "    ax = ax[1,2],\n",
    "    kind='bar'\n",
    ")\n",
    "\n",
    "plt.tight_layout()"
   ]
  },
  {
   "cell_type": "code",
   "execution_count": 11,
   "id": "49397adf",
   "metadata": {},
   "outputs": [
    {
     "data": {
      "image/png": "[encoded data removed]",
      "text/plain": [
       "<Figure size 640x480 with 3 Axes>"
      ]
     },
     "metadata": {},
     "output_type": "display_data"
    }
   ],
   "source": [
    "source = bases.T['ka-i'] + bases.T['ka-S-i'] + bases.T['ka-ki-i']\n",
    "agent = bases.T['ka-e'] + bases.T['ka-S-e'] + bases.T['ka-ki-e']\n",
    "goal = bases.T['ka-ki'] + bases.T['ka-S-ki'] + bases.T['ka-i-ki'] + bases.T['ka-e-ki']\n",
    "\n",
    "fig, ax = plt.subplots(ncols=3, sharey=True)\n",
    "fig.suptitle('Distribution of results by type of argument')\n",
    "\n",
    "(bases[bases.index.str.contains('-i')] / source).plot(\n",
    "    ax=ax[0],\n",
    "    kind='bar',\n",
    "    title='Containing \"i\" phrase'\n",
    ")\n",
    "\n",
    "(bases[bases.index.str.contains('-e')] / agent).plot(\n",
    "    ax=ax[1],\n",
    "    kind='bar',\n",
    "    title='Containing \"e\" phrase'\n",
    ")\n",
    "\n",
    "(bases[bases.index.str.contains('-ki')] / goal).plot(\n",
    "    ax=ax[2],\n",
    "    kind='bar',\n",
    "    title='Containing \"ki\" phrase'\n",
    ")\n",
    "\n",
    "plt.tight_layout()"
   ]
  },
  {
   "cell_type": "code",
   "execution_count": 12,
   "id": "978a00aa",
   "metadata": {},
   "outputs": [
    {
     "data": {
      "application/vnd.microsoft.datawrangler.viewer.v0+json": {
       "columns": [
        {
         "name": "index",
         "rawType": "int64",
         "type": "integer"
        },
        {
         "name": "base",
         "rawType": "object",
         "type": "string"
        },
        {
         "name": "stative",
         "rawType": "bool",
         "type": "boolean"
        },
        {
         "name": "noun",
         "rawType": "int64",
         "type": "integer"
        },
        {
         "name": "query",
         "rawType": "int64",
         "type": "integer"
        }
       ],
       "ref": "809ff21d-1afd-4242-891c-9ee98468652d",
       "rows": [
        [
         "107",
         "riro",
         "True",
         "50",
         "50"
        ],
        [
         "70",
         "moe",
         "False",
         "50",
         "50"
        ],
        [
         "48",
         "kite",
         "False",
         "47",
         "47"
        ],
        [
         "67",
         "mau",
         "False",
         "42",
         "42"
        ],
        [
         "92",
         "puta",
         "False",
         "36",
         "36"
        ],
        [
         "172",
         "whai",
         "False",
         "25",
         "25"
        ],
        [
         "111",
         "rongo",
         "False",
         "18",
         "18"
        ],
        [
         "81",
         "oti",
         "True",
         "17",
         "17"
        ],
        [
         "159",
         "tīmata",
         "False",
         "16",
         "16"
        ],
        [
         "12",
         "haere",
         "False",
         "16",
         "16"
        ],
        [
         "60",
         "mahi",
         "False",
         "10",
         "10"
        ],
        [
         "161",
         "tū",
         "False",
         "9",
         "9"
        ],
        [
         "72",
         "mutu",
         "True",
         "9",
         "9"
        ],
        [
         "27",
         "hoki",
         "False",
         "9",
         "9"
        ],
        [
         "15",
         "haramai",
         "False",
         "8",
         "8"
        ],
        [
         "40",
         "kai",
         "False",
         "7",
         "7"
        ],
        [
         "59",
         "kōrero",
         "False",
         "7",
         "7"
        ],
        [
         "79",
         "noho",
         "False",
         "7",
         "7"
        ],
        [
         "49",
         "kitea",
         "False",
         "7",
         "7"
        ],
        [
         "131",
         "tautoko",
         "False",
         "6",
         "6"
        ],
        [
         "243",
         "wini",
         "False",
         "6",
         "6"
        ],
        [
         "73",
         "mātakitaki",
         "False",
         "5",
         "5"
        ],
        [
         "238",
         "whiwhi",
         "False",
         "5",
         "5"
        ],
        [
         "36",
         "huri",
         "False",
         "4",
         "4"
        ],
        [
         "33",
         "hua",
         "False",
         "4",
         "4"
        ],
        [
         "162",
         "tūtaki",
         "False",
         "4",
         "4"
        ],
        [
         "16",
         "hari",
         "False",
         "4",
         "4"
        ],
        [
         "138",
         "titiro",
         "False",
         "4",
         "4"
        ],
        [
         "128",
         "tau",
         "False",
         "4",
         "4"
        ],
        [
         "19",
         "heke",
         "False",
         "4",
         "4"
        ],
        [
         "97",
         "pēnei",
         "False",
         "4",
         "4"
        ],
        [
         "116",
         "tae",
         "False",
         "3",
         "3"
        ],
        [
         "140",
         "tohatoha",
         "False",
         "3",
         "3"
        ],
        [
         "98",
         "pērā",
         "False",
         "3",
         "3"
        ],
        [
         "134",
         "tiki",
         "False",
         "3",
         "3"
        ],
        [
         "90",
         "purei",
         "False",
         "3",
         "3"
        ],
        [
         "123",
         "tango",
         "False",
         "3",
         "3"
        ],
        [
         "154",
         "tutuki",
         "False",
         "3",
         "3"
        ],
        [
         "173",
         "whaiwhai",
         "False",
         "3",
         "3"
        ],
        [
         "177",
         "whakaaro",
         "False",
         "3",
         "3"
        ],
        [
         "183",
         "whakahoki",
         "False",
         "2",
         "3"
        ],
        [
         "66",
         "mate",
         "False",
         "3",
         "3"
        ],
        [
         "80",
         "ora",
         "False",
         "3",
         "3"
        ],
        [
         "6",
         "aroha",
         "False",
         "3",
         "3"
        ],
        [
         "2",
         "ako",
         "False",
         "3",
         "3"
        ],
        [
         "26",
         "hinga",
         "False",
         "3",
         "3"
        ],
        [
         "91",
         "puru",
         "False",
         "2",
         "2"
        ],
        [
         "88",
         "piki",
         "False",
         "2",
         "2"
        ],
        [
         "106",
         "rere",
         "False",
         "2",
         "2"
        ],
        [
         "85",
         "patu",
         "False",
         "2",
         "2"
        ]
       ],
       "shape": {
        "columns": 4,
        "rows": 247
       }
      },
      "text/html": [
       "<div>\n",
       "<style scoped>\n",
       "    .dataframe tbody tr th:only-of-type {\n",
       "        vertical-align: middle;\n",
       "    }\n",
       "\n",
       "    .dataframe tbody tr th {\n",
       "        vertical-align: top;\n",
       "    }\n",
       "\n",
       "    .dataframe thead th {\n",
       "        text-align: right;\n",
       "    }\n",
       "</style>\n",
       "<table border=\"1\" class=\"dataframe\">\n",
       "  <thead>\n",
       "    <tr style=\"text-align: right;\">\n",
       "      <th></th>\n",
       "      <th>base</th>\n",
       "      <th>stative</th>\n",
       "      <th>noun</th>\n",
       "      <th>query</th>\n",
       "    </tr>\n",
       "  </thead>\n",
       "  <tbody>\n",
       "    <tr>\n",
       "      <th>107</th>\n",
       "      <td>riro</td>\n",
       "      <td>True</td>\n",
       "      <td>50</td>\n",
       "      <td>50</td>\n",
       "    </tr>\n",
       "    <tr>\n",
       "      <th>70</th>\n",
       "      <td>moe</td>\n",
       "      <td>False</td>\n",
       "      <td>50</td>\n",
       "      <td>50</td>\n",
       "    </tr>\n",
       "    <tr>\n",
       "      <th>48</th>\n",
       "      <td>kite</td>\n",
       "      <td>False</td>\n",
       "      <td>47</td>\n",
       "      <td>47</td>\n",
       "    </tr>\n",
       "    <tr>\n",
       "      <th>67</th>\n",
       "      <td>mau</td>\n",
       "      <td>False</td>\n",
       "      <td>42</td>\n",
       "      <td>42</td>\n",
       "    </tr>\n",
       "    <tr>\n",
       "      <th>92</th>\n",
       "      <td>puta</td>\n",
       "      <td>False</td>\n",
       "      <td>36</td>\n",
       "      <td>36</td>\n",
       "    </tr>\n",
       "    <tr>\n",
       "      <th>...</th>\n",
       "      <td>...</td>\n",
       "      <td>...</td>\n",
       "      <td>...</td>\n",
       "      <td>...</td>\n",
       "    </tr>\n",
       "    <tr>\n",
       "      <th>137</th>\n",
       "      <td>tiro</td>\n",
       "      <td>False</td>\n",
       "      <td>1</td>\n",
       "      <td>1</td>\n",
       "    </tr>\n",
       "    <tr>\n",
       "      <th>139</th>\n",
       "      <td>toe</td>\n",
       "      <td>False</td>\n",
       "      <td>1</td>\n",
       "      <td>1</td>\n",
       "    </tr>\n",
       "    <tr>\n",
       "      <th>39</th>\n",
       "      <td>hē</td>\n",
       "      <td>False</td>\n",
       "      <td>1</td>\n",
       "      <td>1</td>\n",
       "    </tr>\n",
       "    <tr>\n",
       "      <th>142</th>\n",
       "      <td>tohua</td>\n",
       "      <td>False</td>\n",
       "      <td>1</td>\n",
       "      <td>1</td>\n",
       "    </tr>\n",
       "    <tr>\n",
       "      <th>246</th>\n",
       "      <td>āwhina</td>\n",
       "      <td>False</td>\n",
       "      <td>1</td>\n",
       "      <td>1</td>\n",
       "    </tr>\n",
       "  </tbody>\n",
       "</table>\n",
       "<p>247 rows × 4 columns</p>\n",
       "</div>"
      ],
      "text/plain": [
       "       base  stative  noun  query\n",
       "107    riro     True    50     50\n",
       "70      moe    False    50     50\n",
       "48     kite    False    47     47\n",
       "67      mau    False    42     42\n",
       "92     puta    False    36     36\n",
       "..      ...      ...   ...    ...\n",
       "137    tiro    False     1      1\n",
       "139     toe    False     1      1\n",
       "39       hē    False     1      1\n",
       "142   tohua    False     1      1\n",
       "246  āwhina    False     1      1\n",
       "\n",
       "[247 rows x 4 columns]"
      ]
     },
     "execution_count": 12,
     "metadata": {},
     "output_type": "execute_result"
    }
   ],
   "source": [
    "verbs = pd.DataFrame()\n",
    "\n",
    "names = ['base','noun'][:n+1]\n",
    "for query in queries:\n",
    "    df = pd.read_csv(f'output/bases/{query}.txt', header=None, names=names, usecols=[i+2 for i in range(n+1)])\n",
    "    df['query'] = query\n",
    "    verbs = pd.concat([verbs, df], ignore_index=True)\n",
    "\n",
    "statives = pd.read_csv('input/sv.txt', header=None, names=['base'])\n",
    "verbs['stative'] = verbs['base'].isin(statives['base'])\n",
    "\n",
    "verbs[verbs['query'] == 'ka-i'].groupby(['base', 'stative']).count().reset_index().sort_values(by='query', ascending=False)"
   ]
  },
  {
   "cell_type": "code",
   "execution_count": 13,
   "id": "9b80412f",
   "metadata": {},
   "outputs": [
    {
     "data": {
      "application/vnd.microsoft.datawrangler.viewer.v0+json": {
       "columns": [
        {
         "name": "index",
         "rawType": "int64",
         "type": "integer"
        },
        {
         "name": "base",
         "rawType": "object",
         "type": "string"
        },
        {
         "name": "query",
         "rawType": "object",
         "type": "string"
        },
        {
         "name": "count",
         "rawType": "float64",
         "type": "float"
        }
       ],
       "ref": "18cd9029-dc8d-4a3d-a1e2-583ba0968b43",
       "rows": [
        [
         "0",
         "haere",
         "ka-S",
         "447.0"
        ],
        [
         "1",
         "tū",
         "ka-S",
         "267.0"
        ],
        [
         "2",
         "hoki",
         "ka-S",
         "245.0"
        ],
        [
         "3",
         "puta",
         "ka-S",
         "241.0"
        ],
        [
         "4",
         "kite",
         "ka-S",
         "210.0"
        ],
        [
         "5",
         "nui",
         "ka-S",
         "184.0"
        ],
        [
         "6",
         "tīmata",
         "ka-S",
         "174.0"
        ],
        [
         "7",
         "noho",
         "ka-S",
         "171.0"
        ],
        [
         "8",
         "tae",
         "ka-S",
         "144.0"
        ],
        [
         "9",
         "haere",
         "ka-S-ki",
         "133.0"
        ],
        [
         "10",
         "haere",
         "ka-ki",
         "115.0"
        ],
        [
         "11",
         "kī",
         "ka-S",
         "112.0"
        ],
        [
         "12",
         "taea",
         "ka-e",
         "110.0"
        ],
        [
         "13",
         "kōrero",
         "ka-S",
         "110.0"
        ],
        [
         "14",
         "mutu",
         "ka-S",
         "108.0"
        ],
        [
         "15",
         "hoki",
         "ka-S-ki",
         "107.0"
        ],
        [
         "16",
         "whakaaro",
         "ka-S",
         "103.0"
        ],
        [
         "17",
         "kite",
         "ka-S-i",
         "101.0"
        ],
        [
         "18",
         "mea",
         "ka-S",
         "98.0"
        ],
        [
         "19",
         "kitea",
         "ka-S",
         "96.0"
        ],
        [
         "20",
         "hoki",
         "ka-ki",
         "93.0"
        ],
        [
         "21",
         "tae",
         "ka-ki",
         "87.0"
        ],
        [
         "22",
         "mōhio",
         "ka-S",
         "87.0"
        ],
        [
         "23",
         "rongo",
         "ka-S",
         "85.0"
        ],
        [
         "24",
         "titiro",
         "ka-S",
         "85.0"
        ],
        [
         "25",
         "mau",
         "ka-S",
         "80.0"
        ],
        [
         "26",
         "taea",
         "ka-S",
         "77.0"
        ],
        [
         "27",
         "huri",
         "ka-S",
         "73.0"
        ],
        [
         "28",
         "haramai",
         "ka-S",
         "73.0"
        ],
        [
         "29",
         "pēhea",
         "ka-S",
         "70.0"
        ],
        [
         "30",
         "taea",
         "ka-e-S",
         "69.0"
        ],
        [
         "31",
         "pai",
         "ka-S",
         "67.0"
        ],
        [
         "32",
         "mate",
         "ka-S",
         "61.0"
        ],
        [
         "33",
         "whai",
         "ka-S",
         "60.0"
        ],
        [
         "34",
         "riro",
         "ka-i",
         "50.0"
        ],
        [
         "35",
         "moe",
         "ka-i",
         "50.0"
        ],
        [
         "36",
         "kite",
         "ka-i",
         "47.0"
        ],
        [
         "37",
         "tau",
         "ka-S",
         "47.0"
        ],
        [
         "38",
         "oti",
         "ka-S",
         "45.0"
        ],
        [
         "39",
         "mihi",
         "ka-ki",
         "44.0"
        ],
        [
         "40",
         "uru",
         "ka-S",
         "43.0"
        ],
        [
         "41",
         "titiro",
         "ka-S-ki",
         "42.0"
        ],
        [
         "42",
         "mau",
         "ka-i",
         "42.0"
        ],
        [
         "43",
         "kore",
         "ka-S",
         "42.0"
        ],
        [
         "44",
         "huri",
         "ka-ki",
         "41.0"
        ],
        [
         "45",
         "āhua",
         "ka-S",
         "40.0"
        ],
        [
         "46",
         "kitea",
         "ka-e",
         "39.0"
        ],
        [
         "47",
         "tae",
         "ka-S-ki",
         "39.0"
        ],
        [
         "48",
         "puta",
         "ka-i",
         "36.0"
        ],
        [
         "49",
         "ngaro",
         "ka-S",
         "36.0"
        ]
       ],
       "shape": {
        "columns": 3,
        "rows": 635
       }
      },
      "text/html": [
       "<div>\n",
       "<style scoped>\n",
       "    .dataframe tbody tr th:only-of-type {\n",
       "        vertical-align: middle;\n",
       "    }\n",
       "\n",
       "    .dataframe tbody tr th {\n",
       "        vertical-align: top;\n",
       "    }\n",
       "\n",
       "    .dataframe thead th {\n",
       "        text-align: right;\n",
       "    }\n",
       "</style>\n",
       "<table border=\"1\" class=\"dataframe\">\n",
       "  <thead>\n",
       "    <tr style=\"text-align: right;\">\n",
       "      <th></th>\n",
       "      <th>base</th>\n",
       "      <th>query</th>\n",
       "      <th>count</th>\n",
       "    </tr>\n",
       "  </thead>\n",
       "  <tbody>\n",
       "    <tr>\n",
       "      <th>0</th>\n",
       "      <td>haere</td>\n",
       "      <td>ka-S</td>\n",
       "      <td>447.0</td>\n",
       "    </tr>\n",
       "    <tr>\n",
       "      <th>1</th>\n",
       "      <td>tū</td>\n",
       "      <td>ka-S</td>\n",
       "      <td>267.0</td>\n",
       "    </tr>\n",
       "    <tr>\n",
       "      <th>2</th>\n",
       "      <td>hoki</td>\n",
       "      <td>ka-S</td>\n",
       "      <td>245.0</td>\n",
       "    </tr>\n",
       "    <tr>\n",
       "      <th>3</th>\n",
       "      <td>puta</td>\n",
       "      <td>ka-S</td>\n",
       "      <td>241.0</td>\n",
       "    </tr>\n",
       "    <tr>\n",
       "      <th>4</th>\n",
       "      <td>kite</td>\n",
       "      <td>ka-S</td>\n",
       "      <td>210.0</td>\n",
       "    </tr>\n",
       "    <tr>\n",
       "      <th>...</th>\n",
       "      <td>...</td>\n",
       "      <td>...</td>\n",
       "      <td>...</td>\n",
       "    </tr>\n",
       "    <tr>\n",
       "      <th>630</th>\n",
       "      <td>tōia</td>\n",
       "      <td>ka-S-ki</td>\n",
       "      <td>3.0</td>\n",
       "    </tr>\n",
       "    <tr>\n",
       "      <th>631</th>\n",
       "      <td>ora</td>\n",
       "      <td>ka-i</td>\n",
       "      <td>3.0</td>\n",
       "    </tr>\n",
       "    <tr>\n",
       "      <th>632</th>\n",
       "      <td>oho</td>\n",
       "      <td>ka-S</td>\n",
       "      <td>3.0</td>\n",
       "    </tr>\n",
       "    <tr>\n",
       "      <th>633</th>\n",
       "      <td>nui</td>\n",
       "      <td>ka-S-i</td>\n",
       "      <td>3.0</td>\n",
       "    </tr>\n",
       "    <tr>\n",
       "      <th>634</th>\n",
       "      <td>ūmere</td>\n",
       "      <td>ka-S</td>\n",
       "      <td>3.0</td>\n",
       "    </tr>\n",
       "  </tbody>\n",
       "</table>\n",
       "<p>635 rows × 3 columns</p>\n",
       "</div>"
      ],
      "text/plain": [
       "      base    query  count\n",
       "0    haere     ka-S  447.0\n",
       "1       tū     ka-S  267.0\n",
       "2     hoki     ka-S  245.0\n",
       "3     puta     ka-S  241.0\n",
       "4     kite     ka-S  210.0\n",
       "..     ...      ...    ...\n",
       "630   tōia  ka-S-ki    3.0\n",
       "631    ora     ka-i    3.0\n",
       "632    oho     ka-S    3.0\n",
       "633    nui   ka-S-i    3.0\n",
       "634  ūmere     ka-S    3.0\n",
       "\n",
       "[635 rows x 3 columns]"
      ]
     },
     "execution_count": 13,
     "metadata": {},
     "output_type": "execute_result"
    }
   ],
   "source": [
    "verbs_agg = verbs.groupby(['base','query']).size()\n",
    "verbs_agg = verbs_agg.mask(verbs_agg < 3).dropna().sort_values(ascending=False).reset_index(name='count')\n",
    "\n",
    "frequent_verbs = pd.merge(verbs_agg, verbs, on=['base','query'], how='left').drop(columns=['count'])\n",
    "\n",
    "verbs_agg"
   ]
  },
  {
   "cell_type": "code",
   "execution_count": 14,
   "id": "bd679ca7",
   "metadata": {},
   "outputs": [
    {
     "data": {
      "application/vnd.microsoft.datawrangler.viewer.v0+json": {
       "columns": [
        {
         "name": "query",
         "rawType": "object",
         "type": "string"
        },
        {
         "name": "False",
         "rawType": "float64",
         "type": "float"
        },
        {
         "name": "True",
         "rawType": "float64",
         "type": "float"
        }
       ],
       "ref": "8baaafde-4130-4085-ba31-c4218046699a",
       "rows": [
        [
         "ka-S",
         "5721.0",
         "290.0"
        ],
        [
         "ka-S-ki",
         "968.0",
         "14.0"
        ],
        [
         "ka-ki",
         "894.0",
         "14.0"
        ],
        [
         "ka-i",
         "413.0",
         "76.0"
        ],
        [
         "ka-S-i",
         "435.0",
         "20.0"
        ],
        [
         "ka-e",
         "445.0",
         null
        ],
        [
         "ka-e-S",
         "204.0",
         null
        ],
        [
         "ka-i-S",
         "63.0",
         "30.0"
        ],
        [
         "ka-ki-S",
         "90.0",
         null
        ],
        [
         "ka-ki-i",
         "50.0",
         null
        ],
        [
         "ka-e-ki",
         "21.0",
         null
        ],
        [
         "ka-i-ki",
         "3.0",
         null
        ]
       ],
       "shape": {
        "columns": 2,
        "rows": 12
       }
      },
      "text/html": [
       "<div>\n",
       "<style scoped>\n",
       "    .dataframe tbody tr th:only-of-type {\n",
       "        vertical-align: middle;\n",
       "    }\n",
       "\n",
       "    .dataframe tbody tr th {\n",
       "        vertical-align: top;\n",
       "    }\n",
       "\n",
       "    .dataframe thead th {\n",
       "        text-align: right;\n",
       "    }\n",
       "</style>\n",
       "<table border=\"1\" class=\"dataframe\">\n",
       "  <thead>\n",
       "    <tr style=\"text-align: right;\">\n",
       "      <th>stative</th>\n",
       "      <th>False</th>\n",
       "      <th>True</th>\n",
       "    </tr>\n",
       "    <tr>\n",
       "      <th>query</th>\n",
       "      <th></th>\n",
       "      <th></th>\n",
       "    </tr>\n",
       "  </thead>\n",
       "  <tbody>\n",
       "    <tr>\n",
       "      <th>ka-S</th>\n",
       "      <td>5721.0</td>\n",
       "      <td>290.0</td>\n",
       "    </tr>\n",
       "    <tr>\n",
       "      <th>ka-S-ki</th>\n",
       "      <td>968.0</td>\n",
       "      <td>14.0</td>\n",
       "    </tr>\n",
       "    <tr>\n",
       "      <th>ka-ki</th>\n",
       "      <td>894.0</td>\n",
       "      <td>14.0</td>\n",
       "    </tr>\n",
       "    <tr>\n",
       "      <th>ka-i</th>\n",
       "      <td>413.0</td>\n",
       "      <td>76.0</td>\n",
       "    </tr>\n",
       "    <tr>\n",
       "      <th>ka-S-i</th>\n",
       "      <td>435.0</td>\n",
       "      <td>20.0</td>\n",
       "    </tr>\n",
       "    <tr>\n",
       "      <th>ka-e</th>\n",
       "      <td>445.0</td>\n",
       "      <td>NaN</td>\n",
       "    </tr>\n",
       "    <tr>\n",
       "      <th>ka-e-S</th>\n",
       "      <td>204.0</td>\n",
       "      <td>NaN</td>\n",
       "    </tr>\n",
       "    <tr>\n",
       "      <th>ka-i-S</th>\n",
       "      <td>63.0</td>\n",
       "      <td>30.0</td>\n",
       "    </tr>\n",
       "    <tr>\n",
       "      <th>ka-ki-S</th>\n",
       "      <td>90.0</td>\n",
       "      <td>NaN</td>\n",
       "    </tr>\n",
       "    <tr>\n",
       "      <th>ka-ki-i</th>\n",
       "      <td>50.0</td>\n",
       "      <td>NaN</td>\n",
       "    </tr>\n",
       "    <tr>\n",
       "      <th>ka-e-ki</th>\n",
       "      <td>21.0</td>\n",
       "      <td>NaN</td>\n",
       "    </tr>\n",
       "    <tr>\n",
       "      <th>ka-i-ki</th>\n",
       "      <td>3.0</td>\n",
       "      <td>NaN</td>\n",
       "    </tr>\n",
       "  </tbody>\n",
       "</table>\n",
       "</div>"
      ],
      "text/plain": [
       "stative   False  True \n",
       "query                 \n",
       "ka-S     5721.0  290.0\n",
       "ka-S-ki   968.0   14.0\n",
       "ka-ki     894.0   14.0\n",
       "ka-i      413.0   76.0\n",
       "ka-S-i    435.0   20.0\n",
       "ka-e      445.0    NaN\n",
       "ka-e-S    204.0    NaN\n",
       "ka-i-S     63.0   30.0\n",
       "ka-ki-S    90.0    NaN\n",
       "ka-ki-i    50.0    NaN\n",
       "ka-e-ki    21.0    NaN\n",
       "ka-i-ki     3.0    NaN"
      ]
     },
     "metadata": {},
     "output_type": "display_data"
    }
   ],
   "source": [
    "pivot = frequent_verbs.pivot_table(index='query', columns='stative', aggfunc='count', values='base')\n",
    "pivot = pivot.sort_index(key=pivot.sum(1).get, ascending=False)\n",
    "display(pivot)\n",
    "\n",
    "if 'ka' in pivot.T.columns:\n",
    "    normed = pivot / pivot.T['ka']\n",
    "\n",
    "    fig, ax = plt.subplots(nrows=2, sharex=True)\n",
    "    normed.plot(\n",
    "        ax=ax[0],\n",
    "        kind='bar',\n",
    "        title='Proportion of ordering to total by type of verb'\n",
    "    )\n",
    "\n",
    "    (pivot.div(pivot.sum(axis=1), axis=0)).plot(\n",
    "        ax=ax[1],\n",
    "        kind='bar',\n",
    "        title='Proportion of type of verb to total by ordering'\n",
    "    )\n",
    "    ax[1].grid()\n",
    "\n",
    "    plt.tight_layout()"
   ]
  },
  {
   "cell_type": "code",
   "execution_count": 15,
   "id": "284f92c2",
   "metadata": {},
   "outputs": [
    {
     "data": {
      "application/vnd.microsoft.datawrangler.viewer.v0+json": {
       "columns": [
        {
         "name": "base",
         "rawType": "object",
         "type": "string"
        },
        {
         "name": "ka-i",
         "rawType": "float64",
         "type": "float"
        },
        {
         "name": "ka-S",
         "rawType": "float64",
         "type": "float"
        }
       ],
       "ref": "82af6a86-687d-4500-a5c4-d672ab989337",
       "rows": [
        [
         "moe",
         "50.0",
         "29.0"
        ],
        [
         "riro",
         "50.0",
         "36.0"
        ],
        [
         "kite",
         "47.0",
         "210.0"
        ],
        [
         "mau",
         "42.0",
         "80.0"
        ],
        [
         "puta",
         "36.0",
         "241.0"
        ],
        [
         "whai",
         "25.0",
         "60.0"
        ],
        [
         "rongo",
         "18.0",
         "85.0"
        ],
        [
         "oti",
         "17.0",
         "45.0"
        ],
        [
         "tīmata",
         "16.0",
         "174.0"
        ],
        [
         "haere",
         "16.0",
         "447.0"
        ],
        [
         "mahi",
         "10.0",
         "30.0"
        ],
        [
         "hoki",
         "9.0",
         "245.0"
        ],
        [
         "tū",
         "9.0",
         "267.0"
        ],
        [
         "mutu",
         "9.0",
         "108.0"
        ],
        [
         "haramai",
         "8.0",
         "73.0"
        ],
        [
         "noho",
         "7.0",
         "171.0"
        ],
        [
         "kitea",
         "7.0",
         "96.0"
        ],
        [
         "kōrero",
         "7.0",
         "110.0"
        ],
        [
         "kai",
         "7.0",
         "16.0"
        ],
        [
         "tautoko",
         "6.0",
         "12.0"
        ],
        [
         "whiwhi",
         "5.0",
         "21.0"
        ],
        [
         "mātakitaki",
         "5.0",
         "4.0"
        ],
        [
         "pēnei",
         "4.0",
         "26.0"
        ],
        [
         "tūtaki",
         "4.0",
         "35.0"
        ],
        [
         "huri",
         "4.0",
         "73.0"
        ],
        [
         "hua",
         "4.0",
         "7.0"
        ],
        [
         "tau",
         "4.0",
         "47.0"
        ],
        [
         "heke",
         "4.0",
         "28.0"
        ],
        [
         "hari",
         "4.0",
         "8.0"
        ],
        [
         "titiro",
         "4.0",
         "85.0"
        ],
        [
         "whaiwhai",
         "3.0",
         "3.0"
        ],
        [
         "tutuki",
         "3.0",
         "25.0"
        ],
        [
         "whakaaro",
         "3.0",
         "103.0"
        ],
        [
         "whakahoki",
         "3.0",
         "14.0"
        ],
        [
         "ako",
         "3.0",
         "8.0"
        ],
        [
         "tiki",
         "3.0",
         "5.0"
        ],
        [
         "tae",
         "3.0",
         "144.0"
        ],
        [
         "pērā",
         "3.0",
         "10.0"
        ],
        [
         "purei",
         "3.0",
         "4.0"
        ],
        [
         "aroha",
         "3.0",
         "26.0"
        ],
        [
         "mate",
         "3.0",
         "61.0"
        ],
        [
         "hinga",
         "3.0",
         "20.0"
        ],
        [
         "ora",
         "3.0",
         "29.0"
        ]
       ],
       "shape": {
        "columns": 2,
        "rows": 43
       }
      },
      "text/html": [
       "<div>\n",
       "<style scoped>\n",
       "    .dataframe tbody tr th:only-of-type {\n",
       "        vertical-align: middle;\n",
       "    }\n",
       "\n",
       "    .dataframe tbody tr th {\n",
       "        vertical-align: top;\n",
       "    }\n",
       "\n",
       "    .dataframe thead th {\n",
       "        text-align: right;\n",
       "    }\n",
       "</style>\n",
       "<table border=\"1\" class=\"dataframe\">\n",
       "  <thead>\n",
       "    <tr style=\"text-align: right;\">\n",
       "      <th>query</th>\n",
       "      <th>ka-i</th>\n",
       "      <th>ka-S</th>\n",
       "    </tr>\n",
       "    <tr>\n",
       "      <th>base</th>\n",
       "      <th></th>\n",
       "      <th></th>\n",
       "    </tr>\n",
       "  </thead>\n",
       "  <tbody>\n",
       "    <tr>\n",
       "      <th>moe</th>\n",
       "      <td>50.0</td>\n",
       "      <td>29.0</td>\n",
       "    </tr>\n",
       "    <tr>\n",
       "      <th>riro</th>\n",
       "      <td>50.0</td>\n",
       "      <td>36.0</td>\n",
       "    </tr>\n",
       "    <tr>\n",
       "      <th>kite</th>\n",
       "      <td>47.0</td>\n",
       "      <td>210.0</td>\n",
       "    </tr>\n",
       "    <tr>\n",
       "      <th>mau</th>\n",
       "      <td>42.0</td>\n",
       "      <td>80.0</td>\n",
       "    </tr>\n",
       "    <tr>\n",
       "      <th>puta</th>\n",
       "      <td>36.0</td>\n",
       "      <td>241.0</td>\n",
       "    </tr>\n",
       "    <tr>\n",
       "      <th>whai</th>\n",
       "      <td>25.0</td>\n",
       "      <td>60.0</td>\n",
       "    </tr>\n",
       "    <tr>\n",
       "      <th>rongo</th>\n",
       "      <td>18.0</td>\n",
       "      <td>85.0</td>\n",
       "    </tr>\n",
       "    <tr>\n",
       "      <th>oti</th>\n",
       "      <td>17.0</td>\n",
       "      <td>45.0</td>\n",
       "    </tr>\n",
       "    <tr>\n",
       "      <th>tīmata</th>\n",
       "      <td>16.0</td>\n",
       "      <td>174.0</td>\n",
       "    </tr>\n",
       "    <tr>\n",
       "      <th>haere</th>\n",
       "      <td>16.0</td>\n",
       "      <td>447.0</td>\n",
       "    </tr>\n",
       "    <tr>\n",
       "      <th>mahi</th>\n",
       "      <td>10.0</td>\n",
       "      <td>30.0</td>\n",
       "    </tr>\n",
       "    <tr>\n",
       "      <th>hoki</th>\n",
       "      <td>9.0</td>\n",
       "      <td>245.0</td>\n",
       "    </tr>\n",
       "    <tr>\n",
       "      <th>tū</th>\n",
       "      <td>9.0</td>\n",
       "      <td>267.0</td>\n",
       "    </tr>\n",
       "    <tr>\n",
       "      <th>mutu</th>\n",
       "      <td>9.0</td>\n",
       "      <td>108.0</td>\n",
       "    </tr>\n",
       "    <tr>\n",
       "      <th>haramai</th>\n",
       "      <td>8.0</td>\n",
       "      <td>73.0</td>\n",
       "    </tr>\n",
       "    <tr>\n",
       "      <th>noho</th>\n",
       "      <td>7.0</td>\n",
       "      <td>171.0</td>\n",
       "    </tr>\n",
       "    <tr>\n",
       "      <th>kitea</th>\n",
       "      <td>7.0</td>\n",
       "      <td>96.0</td>\n",
       "    </tr>\n",
       "    <tr>\n",
       "      <th>kōrero</th>\n",
       "      <td>7.0</td>\n",
       "      <td>110.0</td>\n",
       "    </tr>\n",
       "    <tr>\n",
       "      <th>kai</th>\n",
       "      <td>7.0</td>\n",
       "      <td>16.0</td>\n",
       "    </tr>\n",
       "    <tr>\n",
       "      <th>tautoko</th>\n",
       "      <td>6.0</td>\n",
       "      <td>12.0</td>\n",
       "    </tr>\n",
       "    <tr>\n",
       "      <th>whiwhi</th>\n",
       "      <td>5.0</td>\n",
       "      <td>21.0</td>\n",
       "    </tr>\n",
       "    <tr>\n",
       "      <th>mātakitaki</th>\n",
       "      <td>5.0</td>\n",
       "      <td>4.0</td>\n",
       "    </tr>\n",
       "    <tr>\n",
       "      <th>pēnei</th>\n",
       "      <td>4.0</td>\n",
       "      <td>26.0</td>\n",
       "    </tr>\n",
       "    <tr>\n",
       "      <th>tūtaki</th>\n",
       "      <td>4.0</td>\n",
       "      <td>35.0</td>\n",
       "    </tr>\n",
       "    <tr>\n",
       "      <th>huri</th>\n",
       "      <td>4.0</td>\n",
       "      <td>73.0</td>\n",
       "    </tr>\n",
       "    <tr>\n",
       "      <th>hua</th>\n",
       "      <td>4.0</td>\n",
       "      <td>7.0</td>\n",
       "    </tr>\n",
       "    <tr>\n",
       "      <th>tau</th>\n",
       "      <td>4.0</td>\n",
       "      <td>47.0</td>\n",
       "    </tr>\n",
       "    <tr>\n",
       "      <th>heke</th>\n",
       "      <td>4.0</td>\n",
       "      <td>28.0</td>\n",
       "    </tr>\n",
       "    <tr>\n",
       "      <th>hari</th>\n",
       "      <td>4.0</td>\n",
       "      <td>8.0</td>\n",
       "    </tr>\n",
       "    <tr>\n",
       "      <th>titiro</th>\n",
       "      <td>4.0</td>\n",
       "      <td>85.0</td>\n",
       "    </tr>\n",
       "    <tr>\n",
       "      <th>whaiwhai</th>\n",
       "      <td>3.0</td>\n",
       "      <td>3.0</td>\n",
       "    </tr>\n",
       "    <tr>\n",
       "      <th>tutuki</th>\n",
       "      <td>3.0</td>\n",
       "      <td>25.0</td>\n",
       "    </tr>\n",
       "    <tr>\n",
       "      <th>whakaaro</th>\n",
       "      <td>3.0</td>\n",
       "      <td>103.0</td>\n",
       "    </tr>\n",
       "    <tr>\n",
       "      <th>whakahoki</th>\n",
       "      <td>3.0</td>\n",
       "      <td>14.0</td>\n",
       "    </tr>\n",
       "    <tr>\n",
       "      <th>ako</th>\n",
       "      <td>3.0</td>\n",
       "      <td>8.0</td>\n",
       "    </tr>\n",
       "    <tr>\n",
       "      <th>tiki</th>\n",
       "      <td>3.0</td>\n",
       "      <td>5.0</td>\n",
       "    </tr>\n",
       "    <tr>\n",
       "      <th>tae</th>\n",
       "      <td>3.0</td>\n",
       "      <td>144.0</td>\n",
       "    </tr>\n",
       "    <tr>\n",
       "      <th>pērā</th>\n",
       "      <td>3.0</td>\n",
       "      <td>10.0</td>\n",
       "    </tr>\n",
       "    <tr>\n",
       "      <th>purei</th>\n",
       "      <td>3.0</td>\n",
       "      <td>4.0</td>\n",
       "    </tr>\n",
       "    <tr>\n",
       "      <th>aroha</th>\n",
       "      <td>3.0</td>\n",
       "      <td>26.0</td>\n",
       "    </tr>\n",
       "    <tr>\n",
       "      <th>mate</th>\n",
       "      <td>3.0</td>\n",
       "      <td>61.0</td>\n",
       "    </tr>\n",
       "    <tr>\n",
       "      <th>hinga</th>\n",
       "      <td>3.0</td>\n",
       "      <td>20.0</td>\n",
       "    </tr>\n",
       "    <tr>\n",
       "      <th>ora</th>\n",
       "      <td>3.0</td>\n",
       "      <td>29.0</td>\n",
       "    </tr>\n",
       "  </tbody>\n",
       "</table>\n",
       "</div>"
      ],
      "text/plain": [
       "query       ka-i   ka-S\n",
       "base                   \n",
       "moe         50.0   29.0\n",
       "riro        50.0   36.0\n",
       "kite        47.0  210.0\n",
       "mau         42.0   80.0\n",
       "puta        36.0  241.0\n",
       "whai        25.0   60.0\n",
       "rongo       18.0   85.0\n",
       "oti         17.0   45.0\n",
       "tīmata      16.0  174.0\n",
       "haere       16.0  447.0\n",
       "mahi        10.0   30.0\n",
       "hoki         9.0  245.0\n",
       "tū           9.0  267.0\n",
       "mutu         9.0  108.0\n",
       "haramai      8.0   73.0\n",
       "noho         7.0  171.0\n",
       "kitea        7.0   96.0\n",
       "kōrero       7.0  110.0\n",
       "kai          7.0   16.0\n",
       "tautoko      6.0   12.0\n",
       "whiwhi       5.0   21.0\n",
       "mātakitaki   5.0    4.0\n",
       "pēnei        4.0   26.0\n",
       "tūtaki       4.0   35.0\n",
       "huri         4.0   73.0\n",
       "hua          4.0    7.0\n",
       "tau          4.0   47.0\n",
       "heke         4.0   28.0\n",
       "hari         4.0    8.0\n",
       "titiro       4.0   85.0\n",
       "whaiwhai     3.0    3.0\n",
       "tutuki       3.0   25.0\n",
       "whakaaro     3.0  103.0\n",
       "whakahoki    3.0   14.0\n",
       "ako          3.0    8.0\n",
       "tiki         3.0    5.0\n",
       "tae          3.0  144.0\n",
       "pērā         3.0   10.0\n",
       "purei        3.0    4.0\n",
       "aroha        3.0   26.0\n",
       "mate         3.0   61.0\n",
       "hinga        3.0   20.0\n",
       "ora          3.0   29.0"
      ]
     },
     "metadata": {},
     "output_type": "display_data"
    },
    {
     "data": {
      "image/png": "[encoded data removed]",
      "text/plain": [
       "<Figure size 640x480 with 1 Axes>"
      ]
     },
     "metadata": {},
     "output_type": "display_data"
    }
   ],
   "source": [
    "import numpy as np\n",
    "\n",
    "\n",
    "xs = 'ka-i'\n",
    "ys = 'ka-S'\n",
    "quantile = 0.85\n",
    "zoom = 0.85**0\n",
    "index = 'base'\n",
    "# index = 'noun'\n",
    "df = frequent_verbs.pivot_table(index=index, columns='query', values='stative', aggfunc='count')[[xs, ys]].dropna()\n",
    "\n",
    "# df = df / df.sum(axis=0)\n",
    "# df = df.div(df.sum(axis=1), axis=0)\n",
    "\n",
    "df = df.mask(df[xs] > df.quantile(zoom)[xs]).mask(df[ys] > df.quantile(zoom)[ys])\n",
    "display(df.sort_values(by=xs, ascending=False))\n",
    "\n",
    "plt.scatter(df[xs], df[ys])\n",
    "# plt.scatter(np.log(df[xs]), np.log(df[ys]))\n",
    "plt.axline((0, 0), slope=1, color='red', linestyle='--')\n",
    "\n",
    "def annotate(quantile, df, xs, ys, exclude=True):\n",
    "    threshold_x, threshold_y = df[xs].quantile(quantile), df[ys].quantile(quantile)\n",
    "    for i, txt in enumerate(df.index):\n",
    "        x, y = df[xs].iloc[i], df[ys].iloc[i]\n",
    "        if exclude and x < threshold_x and y < threshold_y:\n",
    "            continue\n",
    "        plt.annotate(txt, (x, y), fontsize=8)\n",
    "\n",
    "annotate(quantile, df, xs, ys, exclude=False)\n",
    "plt.title('Verbs by first argument type')\n",
    "plt.xlabel(xs)\n",
    "plt.ylabel(ys)\n",
    "plt.grid()"
   ]
  },
  {
   "cell_type": "code",
   "execution_count": 16,
   "id": "44a6ac93",
   "metadata": {},
   "outputs": [
    {
     "ename": "KeyboardInterrupt",
     "evalue": "",
     "output_type": "error",
     "traceback": [
      "\u001b[31m---------------------------------------------------------------------------\u001b[39m",
      "\u001b[31mKeyboardInterrupt\u001b[39m                         Traceback (most recent call last)",
      "\u001b[36mCell\u001b[39m\u001b[36m \u001b[39m\u001b[32mIn[16]\u001b[39m\u001b[32m, line 28\u001b[39m\n\u001b[32m     24\u001b[39m     \u001b[38;5;28;01mreturn\u001b[39;00m \u001b[38;5;28;01mNone\u001b[39;00m, \u001b[38;5;28;01mNone\u001b[39;00m\n\u001b[32m     27\u001b[39m sample = possessives\n\u001b[32m---> \u001b[39m\u001b[32m28\u001b[39m sample[[\u001b[33m'\u001b[39m\u001b[33mnominalisation\u001b[39m\u001b[33m'\u001b[39m, \u001b[33m'\u001b[39m\u001b[33mverb\u001b[39m\u001b[33m'\u001b[39m]] = \u001b[43msample\u001b[49m\u001b[43m.\u001b[49m\u001b[43mapply\u001b[49m\u001b[43m(\u001b[49m\u001b[43mfind_nominalisation\u001b[49m\u001b[43m,\u001b[49m\u001b[43m \u001b[49m\u001b[43maxis\u001b[49m\u001b[43m=\u001b[49m\u001b[32;43m1\u001b[39;49m\u001b[43m,\u001b[49m\u001b[43m \u001b[49m\u001b[43mresult_type\u001b[49m\u001b[43m=\u001b[49m\u001b[33;43m'\u001b[39;49m\u001b[33;43mexpand\u001b[39;49m\u001b[33;43m'\u001b[39;49m\u001b[43m)\u001b[49m\n\u001b[32m     30\u001b[39m sample[sample[\u001b[33m'\u001b[39m\u001b[33mnominalisation\u001b[39m\u001b[33m'\u001b[39m].notna()]\n",
      "\u001b[36mFile \u001b[39m\u001b[32m~/Desktop/linguistics/masters/thesis/mbc-analyser/venv/lib/python3.11/site-packages/pandas/core/frame.py:10374\u001b[39m, in \u001b[36mDataFrame.apply\u001b[39m\u001b[34m(self, func, axis, raw, result_type, args, by_row, engine, engine_kwargs, **kwargs)\u001b[39m\n\u001b[32m  10360\u001b[39m \u001b[38;5;28;01mfrom\u001b[39;00m\u001b[38;5;250m \u001b[39m\u001b[34;01mpandas\u001b[39;00m\u001b[34;01m.\u001b[39;00m\u001b[34;01mcore\u001b[39;00m\u001b[34;01m.\u001b[39;00m\u001b[34;01mapply\u001b[39;00m\u001b[38;5;250m \u001b[39m\u001b[38;5;28;01mimport\u001b[39;00m frame_apply\n\u001b[32m  10362\u001b[39m op = frame_apply(\n\u001b[32m  10363\u001b[39m     \u001b[38;5;28mself\u001b[39m,\n\u001b[32m  10364\u001b[39m     func=func,\n\u001b[32m   (...)\u001b[39m\u001b[32m  10372\u001b[39m     kwargs=kwargs,\n\u001b[32m  10373\u001b[39m )\n\u001b[32m> \u001b[39m\u001b[32m10374\u001b[39m \u001b[38;5;28;01mreturn\u001b[39;00m \u001b[43mop\u001b[49m\u001b[43m.\u001b[49m\u001b[43mapply\u001b[49m\u001b[43m(\u001b[49m\u001b[43m)\u001b[49m.__finalize__(\u001b[38;5;28mself\u001b[39m, method=\u001b[33m\"\u001b[39m\u001b[33mapply\u001b[39m\u001b[33m\"\u001b[39m)\n",
      "\u001b[36mFile \u001b[39m\u001b[32m~/Desktop/linguistics/masters/thesis/mbc-analyser/venv/lib/python3.11/site-packages/pandas/core/apply.py:916\u001b[39m, in \u001b[36mFrameApply.apply\u001b[39m\u001b[34m(self)\u001b[39m\n\u001b[32m    913\u001b[39m \u001b[38;5;28;01melif\u001b[39;00m \u001b[38;5;28mself\u001b[39m.raw:\n\u001b[32m    914\u001b[39m     \u001b[38;5;28;01mreturn\u001b[39;00m \u001b[38;5;28mself\u001b[39m.apply_raw(engine=\u001b[38;5;28mself\u001b[39m.engine, engine_kwargs=\u001b[38;5;28mself\u001b[39m.engine_kwargs)\n\u001b[32m--> \u001b[39m\u001b[32m916\u001b[39m \u001b[38;5;28;01mreturn\u001b[39;00m \u001b[38;5;28;43mself\u001b[39;49m\u001b[43m.\u001b[49m\u001b[43mapply_standard\u001b[49m\u001b[43m(\u001b[49m\u001b[43m)\u001b[49m\n",
      "\u001b[36mFile \u001b[39m\u001b[32m~/Desktop/linguistics/masters/thesis/mbc-analyser/venv/lib/python3.11/site-packages/pandas/core/apply.py:1063\u001b[39m, in \u001b[36mFrameApply.apply_standard\u001b[39m\u001b[34m(self)\u001b[39m\n\u001b[32m   1061\u001b[39m \u001b[38;5;28;01mdef\u001b[39;00m\u001b[38;5;250m \u001b[39m\u001b[34mapply_standard\u001b[39m(\u001b[38;5;28mself\u001b[39m):\n\u001b[32m   1062\u001b[39m     \u001b[38;5;28;01mif\u001b[39;00m \u001b[38;5;28mself\u001b[39m.engine == \u001b[33m\"\u001b[39m\u001b[33mpython\u001b[39m\u001b[33m\"\u001b[39m:\n\u001b[32m-> \u001b[39m\u001b[32m1063\u001b[39m         results, res_index = \u001b[38;5;28;43mself\u001b[39;49m\u001b[43m.\u001b[49m\u001b[43mapply_series_generator\u001b[49m\u001b[43m(\u001b[49m\u001b[43m)\u001b[49m\n\u001b[32m   1064\u001b[39m     \u001b[38;5;28;01melse\u001b[39;00m:\n\u001b[32m   1065\u001b[39m         results, res_index = \u001b[38;5;28mself\u001b[39m.apply_series_numba()\n",
      "\u001b[36mFile \u001b[39m\u001b[32m~/Desktop/linguistics/masters/thesis/mbc-analyser/venv/lib/python3.11/site-packages/pandas/core/apply.py:1081\u001b[39m, in \u001b[36mFrameApply.apply_series_generator\u001b[39m\u001b[34m(self)\u001b[39m\n\u001b[32m   1078\u001b[39m \u001b[38;5;28;01mwith\u001b[39;00m option_context(\u001b[33m\"\u001b[39m\u001b[33mmode.chained_assignment\u001b[39m\u001b[33m\"\u001b[39m, \u001b[38;5;28;01mNone\u001b[39;00m):\n\u001b[32m   1079\u001b[39m     \u001b[38;5;28;01mfor\u001b[39;00m i, v \u001b[38;5;129;01min\u001b[39;00m \u001b[38;5;28menumerate\u001b[39m(series_gen):\n\u001b[32m   1080\u001b[39m         \u001b[38;5;66;03m# ignore SettingWithCopy here in case the user mutates\u001b[39;00m\n\u001b[32m-> \u001b[39m\u001b[32m1081\u001b[39m         results[i] = \u001b[38;5;28;43mself\u001b[39;49m\u001b[43m.\u001b[49m\u001b[43mfunc\u001b[49m\u001b[43m(\u001b[49m\u001b[43mv\u001b[49m\u001b[43m,\u001b[49m\u001b[43m \u001b[49m\u001b[43m*\u001b[49m\u001b[38;5;28;43mself\u001b[39;49m\u001b[43m.\u001b[49m\u001b[43margs\u001b[49m\u001b[43m,\u001b[49m\u001b[43m \u001b[49m\u001b[43m*\u001b[49m\u001b[43m*\u001b[49m\u001b[38;5;28;43mself\u001b[39;49m\u001b[43m.\u001b[49m\u001b[43mkwargs\u001b[49m\u001b[43m)\u001b[49m\n\u001b[32m   1082\u001b[39m         \u001b[38;5;28;01mif\u001b[39;00m \u001b[38;5;28misinstance\u001b[39m(results[i], ABCSeries):\n\u001b[32m   1083\u001b[39m             \u001b[38;5;66;03m# If we have a view on v, we need to make a copy because\u001b[39;00m\n\u001b[32m   1084\u001b[39m             \u001b[38;5;66;03m#  series_generator will swap out the underlying data\u001b[39;00m\n\u001b[32m   1085\u001b[39m             results[i] = results[i].copy(deep=\u001b[38;5;28;01mFalse\u001b[39;00m)\n",
      "\u001b[36mCell\u001b[39m\u001b[36m \u001b[39m\u001b[32mIn[16]\u001b[39m\u001b[32m, line 18\u001b[39m, in \u001b[36mfind_nominalisation\u001b[39m\u001b[34m(row)\u001b[39m\n\u001b[32m     16\u001b[39m \u001b[38;5;28;01mdef\u001b[39;00m\u001b[38;5;250m \u001b[39m\u001b[34mfind_nominalisation\u001b[39m(row):\n\u001b[32m     17\u001b[39m     \u001b[38;5;28;01mfor\u001b[39;00m verb \u001b[38;5;129;01min\u001b[39;00m matcher:\n\u001b[32m---> \u001b[39m\u001b[32m18\u001b[39m         m = verb.search(\u001b[43mrow\u001b[49m\u001b[43m[\u001b[49m\u001b[33;43m'\u001b[39;49m\u001b[33;43mphrase\u001b[39;49m\u001b[33;43m'\u001b[39;49m\u001b[43m]\u001b[49m)\n\u001b[32m     19\u001b[39m         \u001b[38;5;28;01mif\u001b[39;00m \u001b[38;5;129;01mnot\u001b[39;00m m:\n\u001b[32m     20\u001b[39m             \u001b[38;5;28;01mcontinue\u001b[39;00m\n",
      "\u001b[36mFile \u001b[39m\u001b[32m~/Desktop/linguistics/masters/thesis/mbc-analyser/venv/lib/python3.11/site-packages/pandas/core/series.py:1121\u001b[39m, in \u001b[36mSeries.__getitem__\u001b[39m\u001b[34m(self, key)\u001b[39m\n\u001b[32m   1118\u001b[39m     \u001b[38;5;28;01mreturn\u001b[39;00m \u001b[38;5;28mself\u001b[39m._values[key]\n\u001b[32m   1120\u001b[39m \u001b[38;5;28;01melif\u001b[39;00m key_is_scalar:\n\u001b[32m-> \u001b[39m\u001b[32m1121\u001b[39m     \u001b[38;5;28;01mreturn\u001b[39;00m \u001b[38;5;28;43mself\u001b[39;49m\u001b[43m.\u001b[49m\u001b[43m_get_value\u001b[49m\u001b[43m(\u001b[49m\u001b[43mkey\u001b[49m\u001b[43m)\u001b[49m\n\u001b[32m   1123\u001b[39m \u001b[38;5;66;03m# Convert generator to list before going through hashable part\u001b[39;00m\n\u001b[32m   1124\u001b[39m \u001b[38;5;66;03m# (We will iterate through the generator there to check for slices)\u001b[39;00m\n\u001b[32m   1125\u001b[39m \u001b[38;5;28;01mif\u001b[39;00m is_iterator(key):\n",
      "\u001b[36mFile \u001b[39m\u001b[32m~/Desktop/linguistics/masters/thesis/mbc-analyser/venv/lib/python3.11/site-packages/pandas/core/series.py:1237\u001b[39m, in \u001b[36mSeries._get_value\u001b[39m\u001b[34m(self, label, takeable)\u001b[39m\n\u001b[32m   1234\u001b[39m     \u001b[38;5;28;01mreturn\u001b[39;00m \u001b[38;5;28mself\u001b[39m._values[label]\n\u001b[32m   1236\u001b[39m \u001b[38;5;66;03m# Similar to Index.get_value, but we do not fall back to positional\u001b[39;00m\n\u001b[32m-> \u001b[39m\u001b[32m1237\u001b[39m loc = \u001b[38;5;28;43mself\u001b[39;49m\u001b[43m.\u001b[49m\u001b[43mindex\u001b[49m\u001b[43m.\u001b[49m\u001b[43mget_loc\u001b[49m\u001b[43m(\u001b[49m\u001b[43mlabel\u001b[49m\u001b[43m)\u001b[49m\n\u001b[32m   1239\u001b[39m \u001b[38;5;28;01mif\u001b[39;00m is_integer(loc):\n\u001b[32m   1240\u001b[39m     \u001b[38;5;28;01mreturn\u001b[39;00m \u001b[38;5;28mself\u001b[39m._values[loc]\n",
      "\u001b[36mFile \u001b[39m\u001b[32m~/Desktop/linguistics/masters/thesis/mbc-analyser/venv/lib/python3.11/site-packages/pandas/core/indexes/base.py:3777\u001b[39m, in \u001b[36mIndex.get_loc\u001b[39m\u001b[34m(self, key)\u001b[39m\n\u001b[32m   3772\u001b[39m     \u001b[38;5;28;01mreturn\u001b[39;00m other, result_name\n\u001b[32m   3774\u001b[39m \u001b[38;5;66;03m# --------------------------------------------------------------------\u001b[39;00m\n\u001b[32m   3775\u001b[39m \u001b[38;5;66;03m# Indexing Methods\u001b[39;00m\n\u001b[32m-> \u001b[39m\u001b[32m3777\u001b[39m \u001b[38;5;28;01mdef\u001b[39;00m\u001b[38;5;250m \u001b[39m\u001b[34mget_loc\u001b[39m(\u001b[38;5;28mself\u001b[39m, key):\n\u001b[32m   3778\u001b[39m \u001b[38;5;250m    \u001b[39m\u001b[33;03m\"\"\"\u001b[39;00m\n\u001b[32m   3779\u001b[39m \u001b[33;03m    Get integer location, slice or boolean mask for requested label.\u001b[39;00m\n\u001b[32m   3780\u001b[39m \n\u001b[32m   (...)\u001b[39m\u001b[32m   3801\u001b[39m \u001b[33;03m    array([False,  True, False,  True])\u001b[39;00m\n\u001b[32m   3802\u001b[39m \u001b[33;03m    \"\"\"\u001b[39;00m\n\u001b[32m   3803\u001b[39m     casted_key = \u001b[38;5;28mself\u001b[39m._maybe_cast_indexer(key)\n",
      "\u001b[31mKeyboardInterrupt\u001b[39m: "
     ]
    }
   ],
   "source": [
    "import re\n",
    "\n",
    "\n",
    "possessives = pd.DataFrame()\n",
    "for query in os.listdir('output/results'):\n",
    "    if not query.startswith('poss'):\n",
    "        continue\n",
    "\n",
    "    query = query[:-4]  # Remove the '.txt' extension\n",
    "    df = pd.DataFrame(open(f'output/results/{query}.txt').readlines(), columns=['phrase'])\n",
    "    df['query'] = query\n",
    "    possessives = pd.concat([possessives, df], ignore_index=True)\n",
    "\n",
    "\n",
    "matcher = [re.compile(rf'\\b({re.escape(verb)})([a-z]*nga)?\\b') for verb in list(frequent_verbs['base'].unique()) + ['tiro', 'arahi']]\n",
    "def find_nominalisation(row):\n",
    "    for verb in matcher:\n",
    "        m = verb.search(row['phrase'])\n",
    "        if not m:\n",
    "            continue\n",
    "\n",
    "        return m.group(0), m.group(1)\n",
    "    \n",
    "    return None, None\n",
    "\n",
    "\n",
    "sample = possessives\n",
    "sample[['nominalisation', 'verb']] = sample.apply(find_nominalisation, axis=1, result_type='expand')\n",
    "\n",
    "sample[sample['nominalisation'].notna()]"
   ]
  },
  {
   "cell_type": "code",
   "execution_count": null,
   "id": "850c1c29",
   "metadata": {},
   "outputs": [
    {
     "data": {
      "application/vnd.microsoft.datawrangler.viewer.v0+json": {
       "columns": [
        {
         "name": "index",
         "rawType": "int64",
         "type": "integer"
        },
        {
         "name": "phrase",
         "rawType": "object",
         "type": "string"
        },
        {
         "name": "query",
         "rawType": "object",
         "type": "string"
        },
        {
         "name": "nominalisation",
         "rawType": "object",
         "type": "unknown"
        },
        {
         "name": "verb",
         "rawType": "object",
         "type": "unknown"
        }
       ],
       "ref": "a5a9f229-5556-4880-aa79-e8f9c100b5c4",
       "rows": [
        [
         "229",
         "i ō tātou tirohanga\n",
         "poss.O",
         "tirohanga",
         "tiro"
        ],
        [
         "246",
         "i ō koutou tirohanga.\n",
         "poss.O",
         "tirohanga",
         "tiro"
        ],
        [
         "837",
         "ki tō mātou titiro,\n",
         "poss.O",
         "titiro",
         "titiro"
        ],
        [
         "960",
         "Ki ōna tirohanga ake,\n",
         "poss.O",
         "tirohanga",
         "tiro"
        ],
        [
         "970",
         "Tō mātou kōtiro,\n",
         "poss.O",
         null,
         null
        ],
        [
         "971",
         "ō tāua kōtiro nei,\n",
         "poss.O",
         null,
         null
        ],
        [
         "1314",
         "o ō mātou kaitirotiro whetū,\n",
         "poss.O",
         null,
         null
        ],
        [
         "1728",
         "tō mātou nei titiro\n",
         "poss.O",
         "titiro",
         "titiro"
        ],
        [
         "1929",
         "tō mātou titiro,\n",
         "poss.O",
         "titiro",
         "titiro"
        ],
        [
         "1974",
         "tō titiro\n",
         "poss.O",
         "titiro",
         "titiro"
        ],
        [
         "2297",
         "I tō titiro,\n",
         "poss.O",
         "titiro",
         "titiro"
        ],
        [
         "2945",
         "ko tō kōtiro\n",
         "poss.O",
         null,
         null
        ],
        [
         "3085",
         "ki tō titiro,\n",
         "poss.O",
         "titiro",
         "titiro"
        ],
        [
         "3256",
         "ki tō titiro\n",
         "poss.O",
         "titiro",
         "titiro"
        ],
        [
         "3326",
         "tō titiro\n",
         "poss.O",
         "titiro",
         "titiro"
        ],
        [
         "3895",
         "tō titiro\n",
         "poss.O",
         "titiro",
         "titiro"
        ],
        [
         "4319",
         "I tō titiro\n",
         "poss.O",
         "titiro",
         "titiro"
        ],
        [
         "4724",
         "ki tō titiro,\n",
         "poss.O",
         "titiro",
         "titiro"
        ],
        [
         "4748",
         "tō titiro\n",
         "poss.O",
         "titiro",
         "titiro"
        ],
        [
         "5036",
         "ki tōu nei titiro?\n",
         "poss.O",
         "titiro",
         "titiro"
        ],
        [
         "5777",
         "i tō titiro,\n",
         "poss.O",
         "titiro",
         "titiro"
        ],
        [
         "5780",
         "tō titiro.\n",
         "poss.O",
         "titiro",
         "titiro"
        ],
        [
         "5967",
         "tō titiro atu,\n",
         "poss.O",
         "titiro",
         "titiro"
        ],
        [
         "6131",
         "tō tātou kōtiro,\n",
         "poss.O",
         null,
         null
        ],
        [
         "6139",
         "ki tō tātou tirohanga atu,\n",
         "poss.O",
         "tirohanga",
         "tiro"
        ],
        [
         "6251",
         "ki tō tirohanga ake,\n",
         "poss.O",
         "tirohanga",
         "tiro"
        ],
        [
         "6354",
         "o ō kōtiro\n",
         "poss.O",
         null,
         null
        ],
        [
         "6483",
         "ki tōku titiro.\n",
         "poss.O",
         "titiro",
         "titiro"
        ],
        [
         "6614",
         "tōu titiro,\n",
         "poss.O",
         "titiro",
         "titiro"
        ],
        [
         "7426",
         "tō tātou titiro,\n",
         "poss.O",
         "titiro",
         "titiro"
        ],
        [
         "7466",
         "I tō rātou titiro pea\n",
         "poss.O",
         "titiro",
         "titiro"
        ],
        [
         "8017",
         "ki tō mātou nei titiro,\n",
         "poss.O",
         "titiro",
         "titiro"
        ],
        [
         "8106",
         "ko tō koutou titiro\n",
         "poss.O",
         "titiro",
         "titiro"
        ],
        [
         "8215",
         "i tōku titiro,\n",
         "poss.O",
         "titiro",
         "titiro"
        ],
        [
         "8689",
         "ki tō titiro,\n",
         "poss.O",
         "titiro",
         "titiro"
        ],
        [
         "9149",
         "i ō tātou tirohanga\n",
         "poss.O",
         "tirohanga",
         "tiro"
        ],
        [
         "10043",
         "ko tōku titiro\n",
         "poss.O",
         "titiro",
         "titiro"
        ],
        [
         "10439",
         "i tō māua kōtiro\n",
         "poss.O",
         null,
         null
        ],
        [
         "10632",
         "tā rātou titirotanga atu,\n",
         "poss.A",
         "titirotanga",
         "titiro"
        ],
        [
         "10650",
         "ko tā rātou tirohanga\n",
         "poss.A",
         "tirohanga",
         "tiro"
        ],
        [
         "11763",
         "Ki āna tirohanga,\n",
         "poss.A",
         "tirohanga",
         "tiro"
        ],
        [
         "12231",
         "tā tāua titiro\n",
         "poss.A",
         "titiro",
         "titiro"
        ],
        [
         "12255",
         "tā rātou titiro\n",
         "poss.A",
         "titiro",
         "titiro"
        ],
        [
         "12401",
         "i tāku tirohanga,\n",
         "poss.A",
         "tirohanga",
         "tiro"
        ],
        [
         "12524",
         "tā tātou titiro,\n",
         "poss.A",
         "titiro",
         "titiro"
        ],
        [
         "12655",
         "mō ā rātou mahi tirotiro\n",
         "poss.A",
         "mahi",
         "mahi"
        ],
        [
         "12689",
         "me tā rātou titiro\n",
         "poss.A",
         "titiro",
         "titiro"
        ],
        [
         "13388",
         "ki tāku titiro.\n",
         "poss.A",
         "titiro",
         "titiro"
        ],
        [
         "13576",
         "ki tāku nei titiro\n",
         "poss.A",
         "titiro",
         "titiro"
        ],
        [
         "14434",
         "Ko tāku nei titiro,\n",
         "poss.A",
         "titiro",
         "titiro"
        ]
       ],
       "shape": {
        "columns": 4,
        "rows": 154
       }
      },
      "text/html": [
       "<div>\n",
       "<style scoped>\n",
       "    .dataframe tbody tr th:only-of-type {\n",
       "        vertical-align: middle;\n",
       "    }\n",
       "\n",
       "    .dataframe tbody tr th {\n",
       "        vertical-align: top;\n",
       "    }\n",
       "\n",
       "    .dataframe thead th {\n",
       "        text-align: right;\n",
       "    }\n",
       "</style>\n",
       "<table border=\"1\" class=\"dataframe\">\n",
       "  <thead>\n",
       "    <tr style=\"text-align: right;\">\n",
       "      <th></th>\n",
       "      <th>phrase</th>\n",
       "      <th>query</th>\n",
       "      <th>nominalisation</th>\n",
       "      <th>verb</th>\n",
       "    </tr>\n",
       "  </thead>\n",
       "  <tbody>\n",
       "    <tr>\n",
       "      <th>229</th>\n",
       "      <td>i ō tātou tirohanga\\n</td>\n",
       "      <td>poss.O</td>\n",
       "      <td>tirohanga</td>\n",
       "      <td>tiro</td>\n",
       "    </tr>\n",
       "    <tr>\n",
       "      <th>246</th>\n",
       "      <td>i ō koutou tirohanga.\\n</td>\n",
       "      <td>poss.O</td>\n",
       "      <td>tirohanga</td>\n",
       "      <td>tiro</td>\n",
       "    </tr>\n",
       "    <tr>\n",
       "      <th>837</th>\n",
       "      <td>ki tō mātou titiro,\\n</td>\n",
       "      <td>poss.O</td>\n",
       "      <td>titiro</td>\n",
       "      <td>titiro</td>\n",
       "    </tr>\n",
       "    <tr>\n",
       "      <th>960</th>\n",
       "      <td>Ki ōna tirohanga ake,\\n</td>\n",
       "      <td>poss.O</td>\n",
       "      <td>tirohanga</td>\n",
       "      <td>tiro</td>\n",
       "    </tr>\n",
       "    <tr>\n",
       "      <th>970</th>\n",
       "      <td>Tō mātou kōtiro,\\n</td>\n",
       "      <td>poss.O</td>\n",
       "      <td>None</td>\n",
       "      <td>None</td>\n",
       "    </tr>\n",
       "    <tr>\n",
       "      <th>...</th>\n",
       "      <td>...</td>\n",
       "      <td>...</td>\n",
       "      <td>...</td>\n",
       "      <td>...</td>\n",
       "    </tr>\n",
       "    <tr>\n",
       "      <th>36286</th>\n",
       "      <td>ki tāku titiro ake,\\n</td>\n",
       "      <td>poss.A</td>\n",
       "      <td>titiro</td>\n",
       "      <td>titiro</td>\n",
       "    </tr>\n",
       "    <tr>\n",
       "      <th>36288</th>\n",
       "      <td>tāku titiro\\n</td>\n",
       "      <td>poss.A</td>\n",
       "      <td>titiro</td>\n",
       "      <td>titiro</td>\n",
       "    </tr>\n",
       "    <tr>\n",
       "      <th>36290</th>\n",
       "      <td>tā rātou titiro.\\n</td>\n",
       "      <td>poss.A</td>\n",
       "      <td>titiro</td>\n",
       "      <td>titiro</td>\n",
       "    </tr>\n",
       "    <tr>\n",
       "      <th>36747</th>\n",
       "      <td>o tāku titiro\\n</td>\n",
       "      <td>poss.A</td>\n",
       "      <td>titiro</td>\n",
       "      <td>titiro</td>\n",
       "    </tr>\n",
       "    <tr>\n",
       "      <th>38954</th>\n",
       "      <td>ki āku nei tirohanga,\\n</td>\n",
       "      <td>poss.A</td>\n",
       "      <td>tirohanga</td>\n",
       "      <td>tiro</td>\n",
       "    </tr>\n",
       "  </tbody>\n",
       "</table>\n",
       "<p>154 rows × 4 columns</p>\n",
       "</div>"
      ],
      "text/plain": [
       "                        phrase   query nominalisation    verb\n",
       "229      i ō tātou tirohanga\\n  poss.O      tirohanga    tiro\n",
       "246    i ō koutou tirohanga.\\n  poss.O      tirohanga    tiro\n",
       "837      ki tō mātou titiro,\\n  poss.O         titiro  titiro\n",
       "960    Ki ōna tirohanga ake,\\n  poss.O      tirohanga    tiro\n",
       "970         Tō mātou kōtiro,\\n  poss.O           None    None\n",
       "...                        ...     ...            ...     ...\n",
       "36286    ki tāku titiro ake,\\n  poss.A         titiro  titiro\n",
       "36288            tāku titiro\\n  poss.A         titiro  titiro\n",
       "36290       tā rātou titiro.\\n  poss.A         titiro  titiro\n",
       "36747          o tāku titiro\\n  poss.A         titiro  titiro\n",
       "38954  ki āku nei tirohanga,\\n  poss.A      tirohanga    tiro\n",
       "\n",
       "[154 rows x 4 columns]"
      ]
     },
     "execution_count": 48,
     "metadata": {},
     "output_type": "execute_result"
    }
   ],
   "source": [
    "sample[sample['phrase'].str.contains('tiro')]"
   ]
  },
  {
   "cell_type": "code",
   "execution_count": null,
   "id": "1d6c6f96",
   "metadata": {},
   "outputs": [
    {
     "data": {
      "application/vnd.microsoft.datawrangler.viewer.v0+json": {
       "columns": [
        {
         "name": "index",
         "rawType": "int64",
         "type": "integer"
        },
        {
         "name": "verb",
         "rawType": "object",
         "type": "string"
        },
        {
         "name": "nominalisation",
         "rawType": "object",
         "type": "string"
        },
        {
         "name": "query",
         "rawType": "object",
         "type": "string"
        },
        {
         "name": "phrase",
         "rawType": "int64",
         "type": "integer"
        },
        {
         "name": "exact",
         "rawType": "bool",
         "type": "boolean"
        },
        {
         "name": "stative",
         "rawType": "bool",
         "type": "boolean"
        }
       ],
       "ref": "08aee61c-aa8a-4442-afa1-664495959945",
       "rows": [
        [
         "367",
         "whakaaro",
         "whakaaro",
         "poss.O",
         "528",
         "True",
         "False"
        ],
        [
         "126",
         "mahi",
         "mahi",
         "poss.A",
         "444",
         "True",
         "False"
        ],
        [
         "119",
         "kōrero",
         "kōrero",
         "poss.A",
         "429",
         "True",
         "False"
        ],
        [
         "127",
         "mahi",
         "mahi",
         "poss.O",
         "168",
         "True",
         "False"
        ],
        [
         "120",
         "kōrero",
         "kōrero",
         "poss.O",
         "120",
         "True",
         "False"
        ],
        [
         "411",
         "whānau",
         "whānau",
         "poss.O",
         "102",
         "True",
         "False"
        ],
        [
         "296",
         "tika",
         "tikanga",
         "poss.O",
         "102",
         "False",
         "False"
        ],
        [
         "305",
         "titiro",
         "titiro",
         "poss.A",
         "94",
         "True",
         "False"
        ],
        [
         "137",
         "mate",
         "mate",
         "poss.O",
         "85",
         "True",
         "False"
        ],
        [
         "43",
         "hiahia",
         "hiahia",
         "poss.O",
         "81",
         "True",
         "False"
        ],
        [
         "132",
         "mana",
         "mana",
         "poss.O",
         "79",
         "True",
         "False"
        ],
        [
         "310",
         "tono",
         "tono",
         "poss.A",
         "72",
         "True",
         "False"
        ],
        [
         "80",
         "kaha",
         "kaha",
         "poss.O",
         "66",
         "True",
         "False"
        ],
        [
         "49",
         "hoki",
         "hoki",
         "poss.O",
         "63",
         "True",
         "False"
        ],
        [
         "366",
         "whakaaro",
         "whakaaro",
         "poss.A",
         "62",
         "True",
         "False"
        ],
        [
         "165",
         "mōhio",
         "mōhio",
         "poss.O",
         "62",
         "True",
         "False"
        ],
        [
         "299",
         "tino",
         "tino",
         "poss.O",
         "52",
         "True",
         "False"
        ],
        [
         "83",
         "kai",
         "kaihanga",
         "poss.A",
         "50",
         "False",
         "False"
        ],
        [
         "284",
         "tau",
         "tau",
         "poss.A",
         "49",
         "True",
         "False"
        ],
        [
         "285",
         "tau",
         "tau",
         "poss.O",
         "48",
         "True",
         "False"
        ],
        [
         "295",
         "tika",
         "tikanga",
         "poss.A",
         "47",
         "False",
         "False"
        ],
        [
         "58",
         "hui",
         "hui",
         "poss.A",
         "46",
         "True",
         "False"
        ],
        [
         "19",
         "haere",
         "haere",
         "poss.A",
         "46",
         "True",
         "False"
        ],
        [
         "48",
         "hoki",
         "hoki",
         "poss.A",
         "43",
         "True",
         "False"
        ],
        [
         "416",
         "āhua",
         "āhua",
         "poss.O",
         "42",
         "True",
         "False"
        ],
        [
         "122",
         "maha",
         "maha",
         "poss.O",
         "42",
         "True",
         "False"
        ],
        [
         "20",
         "haere",
         "haere",
         "poss.O",
         "42",
         "True",
         "False"
        ],
        [
         "145",
         "mau",
         "maunga",
         "poss.O",
         "39",
         "False",
         "False"
        ],
        [
         "42",
         "hiahia",
         "hiahia",
         "poss.A",
         "39",
         "True",
         "False"
        ],
        [
         "179",
         "noho",
         "noho",
         "poss.A",
         "38",
         "True",
         "False"
        ],
        [
         "186",
         "nui",
         "nui",
         "poss.A",
         "38",
         "True",
         "False"
        ],
        [
         "22",
         "haere",
         "haerenga",
         "poss.O",
         "37",
         "False",
         "False"
        ],
        [
         "180",
         "noho",
         "noho",
         "poss.O",
         "35",
         "True",
         "False"
        ],
        [
         "4",
         "aituā",
         "aituā",
         "poss.O",
         "35",
         "True",
         "False"
        ],
        [
         "169",
         "mōhio",
         "mōhiotanga",
         "poss.O",
         "33",
         "False",
         "False"
        ],
        [
         "81",
         "kai",
         "kai",
         "poss.A",
         "33",
         "True",
         "False"
        ],
        [
         "227",
         "pātai",
         "pātai",
         "poss.O",
         "32",
         "True",
         "False"
        ],
        [
         "420",
         "āhua",
         "āhuatanga",
         "poss.O",
         "31",
         "False",
         "False"
        ],
        [
         "410",
         "whānau",
         "whānau",
         "poss.A",
         "30",
         "True",
         "False"
        ],
        [
         "256",
         "roa",
         "roa",
         "poss.O",
         "29",
         "True",
         "False"
        ],
        [
         "59",
         "hui",
         "hui",
         "poss.O",
         "28",
         "True",
         "False"
        ],
        [
         "161",
         "māmā",
         "māmā",
         "poss.O",
         "28",
         "True",
         "False"
        ],
        [
         "226",
         "pātai",
         "pātai",
         "poss.A",
         "28",
         "True",
         "False"
        ],
        [
         "419",
         "āhua",
         "āhuatanga",
         "poss.A",
         "25",
         "False",
         "False"
        ],
        [
         "306",
         "titiro",
         "titiro",
         "poss.O",
         "25",
         "True",
         "False"
        ],
        [
         "334",
         "tū",
         "tū",
         "poss.O",
         "24",
         "True",
         "False"
        ],
        [
         "203",
         "pakeke",
         "pakeke",
         "poss.O",
         "23",
         "True",
         "False"
        ],
        [
         "164",
         "mōhio",
         "mōhio",
         "poss.A",
         "22",
         "True",
         "False"
        ],
        [
         "223",
         "pānui",
         "pānui",
         "poss.A",
         "22",
         "True",
         "False"
        ],
        [
         "148",
         "mea",
         "mea",
         "poss.A",
         "21",
         "True",
         "False"
        ]
       ],
       "shape": {
        "columns": 6,
        "rows": 431
       }
      },
      "text/html": [
       "<div>\n",
       "<style scoped>\n",
       "    .dataframe tbody tr th:only-of-type {\n",
       "        vertical-align: middle;\n",
       "    }\n",
       "\n",
       "    .dataframe tbody tr th {\n",
       "        vertical-align: top;\n",
       "    }\n",
       "\n",
       "    .dataframe thead th {\n",
       "        text-align: right;\n",
       "    }\n",
       "</style>\n",
       "<table border=\"1\" class=\"dataframe\">\n",
       "  <thead>\n",
       "    <tr style=\"text-align: right;\">\n",
       "      <th></th>\n",
       "      <th>verb</th>\n",
       "      <th>nominalisation</th>\n",
       "      <th>query</th>\n",
       "      <th>phrase</th>\n",
       "      <th>exact</th>\n",
       "      <th>stative</th>\n",
       "    </tr>\n",
       "  </thead>\n",
       "  <tbody>\n",
       "    <tr>\n",
       "      <th>367</th>\n",
       "      <td>whakaaro</td>\n",
       "      <td>whakaaro</td>\n",
       "      <td>poss.O</td>\n",
       "      <td>528</td>\n",
       "      <td>True</td>\n",
       "      <td>False</td>\n",
       "    </tr>\n",
       "    <tr>\n",
       "      <th>126</th>\n",
       "      <td>mahi</td>\n",
       "      <td>mahi</td>\n",
       "      <td>poss.A</td>\n",
       "      <td>444</td>\n",
       "      <td>True</td>\n",
       "      <td>False</td>\n",
       "    </tr>\n",
       "    <tr>\n",
       "      <th>119</th>\n",
       "      <td>kōrero</td>\n",
       "      <td>kōrero</td>\n",
       "      <td>poss.A</td>\n",
       "      <td>429</td>\n",
       "      <td>True</td>\n",
       "      <td>False</td>\n",
       "    </tr>\n",
       "    <tr>\n",
       "      <th>127</th>\n",
       "      <td>mahi</td>\n",
       "      <td>mahi</td>\n",
       "      <td>poss.O</td>\n",
       "      <td>168</td>\n",
       "      <td>True</td>\n",
       "      <td>False</td>\n",
       "    </tr>\n",
       "    <tr>\n",
       "      <th>120</th>\n",
       "      <td>kōrero</td>\n",
       "      <td>kōrero</td>\n",
       "      <td>poss.O</td>\n",
       "      <td>120</td>\n",
       "      <td>True</td>\n",
       "      <td>False</td>\n",
       "    </tr>\n",
       "    <tr>\n",
       "      <th>...</th>\n",
       "      <td>...</td>\n",
       "      <td>...</td>\n",
       "      <td>...</td>\n",
       "      <td>...</td>\n",
       "      <td>...</td>\n",
       "      <td>...</td>\n",
       "    </tr>\n",
       "    <tr>\n",
       "      <th>65</th>\n",
       "      <td>huihui</td>\n",
       "      <td>huihui</td>\n",
       "      <td>poss.A</td>\n",
       "      <td>1</td>\n",
       "      <td>True</td>\n",
       "      <td>False</td>\n",
       "    </tr>\n",
       "    <tr>\n",
       "      <th>70</th>\n",
       "      <td>hāereere</td>\n",
       "      <td>hāereeretanga</td>\n",
       "      <td>poss.O</td>\n",
       "      <td>1</td>\n",
       "      <td>False</td>\n",
       "      <td>False</td>\n",
       "    </tr>\n",
       "    <tr>\n",
       "      <th>76</th>\n",
       "      <td>hīkoi</td>\n",
       "      <td>hīkoitanga</td>\n",
       "      <td>poss.O</td>\n",
       "      <td>1</td>\n",
       "      <td>False</td>\n",
       "      <td>False</td>\n",
       "    </tr>\n",
       "    <tr>\n",
       "      <th>77</th>\n",
       "      <td>inoi</td>\n",
       "      <td>inoi</td>\n",
       "      <td>poss.A</td>\n",
       "      <td>1</td>\n",
       "      <td>True</td>\n",
       "      <td>False</td>\n",
       "    </tr>\n",
       "    <tr>\n",
       "      <th>430</th>\n",
       "      <td>ū</td>\n",
       "      <td>ūtanga</td>\n",
       "      <td>poss.O</td>\n",
       "      <td>1</td>\n",
       "      <td>False</td>\n",
       "      <td>False</td>\n",
       "    </tr>\n",
       "  </tbody>\n",
       "</table>\n",
       "<p>431 rows × 6 columns</p>\n",
       "</div>"
      ],
      "text/plain": [
       "         verb nominalisation   query  phrase  exact  stative\n",
       "367  whakaaro       whakaaro  poss.O     528   True    False\n",
       "126      mahi           mahi  poss.A     444   True    False\n",
       "119    kōrero         kōrero  poss.A     429   True    False\n",
       "127      mahi           mahi  poss.O     168   True    False\n",
       "120    kōrero         kōrero  poss.O     120   True    False\n",
       "..        ...            ...     ...     ...    ...      ...\n",
       "65     huihui         huihui  poss.A       1   True    False\n",
       "70   hāereere  hāereeretanga  poss.O       1  False    False\n",
       "76      hīkoi     hīkoitanga  poss.O       1  False    False\n",
       "77       inoi           inoi  poss.A       1   True    False\n",
       "430         ū         ūtanga  poss.O       1  False    False\n",
       "\n",
       "[431 rows x 6 columns]"
      ]
     },
     "execution_count": 49,
     "metadata": {},
     "output_type": "execute_result"
    }
   ],
   "source": [
    "possessive_counts = sample.groupby(['verb', 'nominalisation', 'query']).count().reset_index().sort_values(by='phrase', ascending=False)\n",
    "possessive_counts['exact'] = possessive_counts['nominalisation'] == possessive_counts['verb']\n",
    "possessive_counts['stative'] = possessive_counts['verb'].isin(statives['base'])\n",
    "\n",
    "possessive_counts.sort_values(by='phrase', ascending=False)"
   ]
  },
  {
   "cell_type": "code",
   "execution_count": null,
   "id": "c216f22b",
   "metadata": {},
   "outputs": [
    {
     "data": {
      "application/vnd.microsoft.datawrangler.viewer.v0+json": {
       "columns": [
        {
         "name": "index",
         "rawType": "int64",
         "type": "integer"
        },
        {
         "name": "verb",
         "rawType": "object",
         "type": "string"
        },
        {
         "name": "nominalisation",
         "rawType": "object",
         "type": "string"
        },
        {
         "name": "query",
         "rawType": "object",
         "type": "string"
        },
        {
         "name": "phrase",
         "rawType": "int64",
         "type": "integer"
        },
        {
         "name": "exact",
         "rawType": "bool",
         "type": "boolean"
        },
        {
         "name": "stative",
         "rawType": "bool",
         "type": "boolean"
        }
       ],
       "ref": "39b229aa-933f-443f-aa5d-6b53312d7e1c",
       "rows": [
        [
         "367",
         "whakaaro",
         "whakaaro",
         "poss.O",
         "528",
         "True",
         "False"
        ],
        [
         "127",
         "mahi",
         "mahi",
         "poss.O",
         "168",
         "True",
         "False"
        ],
        [
         "120",
         "kōrero",
         "kōrero",
         "poss.O",
         "120",
         "True",
         "False"
        ],
        [
         "411",
         "whānau",
         "whānau",
         "poss.O",
         "102",
         "True",
         "False"
        ],
        [
         "296",
         "tika",
         "tikanga",
         "poss.O",
         "102",
         "False",
         "False"
        ],
        [
         "137",
         "mate",
         "mate",
         "poss.O",
         "85",
         "True",
         "False"
        ],
        [
         "43",
         "hiahia",
         "hiahia",
         "poss.O",
         "81",
         "True",
         "False"
        ],
        [
         "132",
         "mana",
         "mana",
         "poss.O",
         "79",
         "True",
         "False"
        ],
        [
         "80",
         "kaha",
         "kaha",
         "poss.O",
         "66",
         "True",
         "False"
        ],
        [
         "49",
         "hoki",
         "hoki",
         "poss.O",
         "63",
         "True",
         "False"
        ],
        [
         "165",
         "mōhio",
         "mōhio",
         "poss.O",
         "62",
         "True",
         "False"
        ],
        [
         "299",
         "tino",
         "tino",
         "poss.O",
         "52",
         "True",
         "False"
        ],
        [
         "285",
         "tau",
         "tau",
         "poss.O",
         "48",
         "True",
         "False"
        ],
        [
         "416",
         "āhua",
         "āhua",
         "poss.O",
         "42",
         "True",
         "False"
        ],
        [
         "122",
         "maha",
         "maha",
         "poss.O",
         "42",
         "True",
         "False"
        ],
        [
         "20",
         "haere",
         "haere",
         "poss.O",
         "42",
         "True",
         "False"
        ],
        [
         "145",
         "mau",
         "maunga",
         "poss.O",
         "39",
         "False",
         "False"
        ],
        [
         "22",
         "haere",
         "haerenga",
         "poss.O",
         "37",
         "False",
         "False"
        ],
        [
         "180",
         "noho",
         "noho",
         "poss.O",
         "35",
         "True",
         "False"
        ],
        [
         "4",
         "aituā",
         "aituā",
         "poss.O",
         "35",
         "True",
         "False"
        ],
        [
         "169",
         "mōhio",
         "mōhiotanga",
         "poss.O",
         "33",
         "False",
         "False"
        ],
        [
         "227",
         "pātai",
         "pātai",
         "poss.O",
         "32",
         "True",
         "False"
        ],
        [
         "420",
         "āhua",
         "āhuatanga",
         "poss.O",
         "31",
         "False",
         "False"
        ],
        [
         "256",
         "roa",
         "roa",
         "poss.O",
         "29",
         "True",
         "False"
        ],
        [
         "161",
         "māmā",
         "māmā",
         "poss.O",
         "28",
         "True",
         "False"
        ],
        [
         "59",
         "hui",
         "hui",
         "poss.O",
         "28",
         "True",
         "False"
        ],
        [
         "306",
         "titiro",
         "titiro",
         "poss.O",
         "25",
         "True",
         "False"
        ],
        [
         "334",
         "tū",
         "tū",
         "poss.O",
         "24",
         "True",
         "False"
        ],
        [
         "203",
         "pakeke",
         "pakeke",
         "poss.O",
         "23",
         "True",
         "False"
        ],
        [
         "84",
         "kai",
         "kaihanga",
         "poss.O",
         "21",
         "False",
         "False"
        ],
        [
         "124",
         "mahara",
         "mahara",
         "poss.O",
         "21",
         "True",
         "False"
        ],
        [
         "187",
         "nui",
         "nui",
         "poss.O",
         "19",
         "True",
         "False"
        ],
        [
         "385",
         "whakapapa",
         "whakapapa",
         "poss.O",
         "19",
         "True",
         "False"
        ],
        [
         "268",
         "tae",
         "taenga",
         "poss.O",
         "19",
         "False",
         "False"
        ],
        [
         "91",
         "karakia",
         "karakia",
         "poss.O",
         "19",
         "True",
         "False"
        ],
        [
         "339",
         "tū",
         "tūranga",
         "poss.O",
         "17",
         "False",
         "False"
        ],
        [
         "224",
         "pānui",
         "pānui",
         "poss.O",
         "16",
         "True",
         "False"
        ],
        [
         "15",
         "aroha",
         "aroha",
         "poss.O",
         "16",
         "True",
         "False"
        ],
        [
         "311",
         "tono",
         "tono",
         "poss.O",
         "15",
         "True",
         "False"
        ],
        [
         "219",
         "pā",
         "pā",
         "poss.O",
         "14",
         "True",
         "False"
        ],
        [
         "51",
         "hoki",
         "hokinga",
         "poss.O",
         "13",
         "False",
         "False"
        ],
        [
         "82",
         "kai",
         "kai",
         "poss.O",
         "13",
         "True",
         "False"
        ],
        [
         "214",
         "puta",
         "puta",
         "poss.O",
         "12",
         "True",
         "False"
        ],
        [
         "387",
         "whakapono",
         "whakapono",
         "poss.O",
         "12",
         "True",
         "False"
        ],
        [
         "149",
         "mea",
         "mea",
         "poss.O",
         "12",
         "True",
         "False"
        ],
        [
         "375",
         "whakahē",
         "whakahē",
         "poss.O",
         "11",
         "True",
         "False"
        ],
        [
         "330",
         "tīmata",
         "tīmatanga",
         "poss.O",
         "11",
         "False",
         "False"
        ],
        [
         "26",
         "hanga",
         "hanga",
         "poss.O",
         "10",
         "True",
         "False"
        ],
        [
         "155",
         "moe",
         "moenga",
         "poss.O",
         "10",
         "False",
         "False"
        ],
        [
         "93",
         "karanga",
         "karanga",
         "poss.O",
         "9",
         "True",
         "False"
        ]
       ],
       "shape": {
        "columns": 6,
        "rows": 249
       }
      },
      "text/html": [
       "<div>\n",
       "<style scoped>\n",
       "    .dataframe tbody tr th:only-of-type {\n",
       "        vertical-align: middle;\n",
       "    }\n",
       "\n",
       "    .dataframe tbody tr th {\n",
       "        vertical-align: top;\n",
       "    }\n",
       "\n",
       "    .dataframe thead th {\n",
       "        text-align: right;\n",
       "    }\n",
       "</style>\n",
       "<table border=\"1\" class=\"dataframe\">\n",
       "  <thead>\n",
       "    <tr style=\"text-align: right;\">\n",
       "      <th></th>\n",
       "      <th>verb</th>\n",
       "      <th>nominalisation</th>\n",
       "      <th>query</th>\n",
       "      <th>phrase</th>\n",
       "      <th>exact</th>\n",
       "      <th>stative</th>\n",
       "    </tr>\n",
       "  </thead>\n",
       "  <tbody>\n",
       "    <tr>\n",
       "      <th>367</th>\n",
       "      <td>whakaaro</td>\n",
       "      <td>whakaaro</td>\n",
       "      <td>poss.O</td>\n",
       "      <td>528</td>\n",
       "      <td>True</td>\n",
       "      <td>False</td>\n",
       "    </tr>\n",
       "    <tr>\n",
       "      <th>127</th>\n",
       "      <td>mahi</td>\n",
       "      <td>mahi</td>\n",
       "      <td>poss.O</td>\n",
       "      <td>168</td>\n",
       "      <td>True</td>\n",
       "      <td>False</td>\n",
       "    </tr>\n",
       "    <tr>\n",
       "      <th>120</th>\n",
       "      <td>kōrero</td>\n",
       "      <td>kōrero</td>\n",
       "      <td>poss.O</td>\n",
       "      <td>120</td>\n",
       "      <td>True</td>\n",
       "      <td>False</td>\n",
       "    </tr>\n",
       "    <tr>\n",
       "      <th>411</th>\n",
       "      <td>whānau</td>\n",
       "      <td>whānau</td>\n",
       "      <td>poss.O</td>\n",
       "      <td>102</td>\n",
       "      <td>True</td>\n",
       "      <td>False</td>\n",
       "    </tr>\n",
       "    <tr>\n",
       "      <th>296</th>\n",
       "      <td>tika</td>\n",
       "      <td>tikanga</td>\n",
       "      <td>poss.O</td>\n",
       "      <td>102</td>\n",
       "      <td>False</td>\n",
       "      <td>False</td>\n",
       "    </tr>\n",
       "    <tr>\n",
       "      <th>...</th>\n",
       "      <td>...</td>\n",
       "      <td>...</td>\n",
       "      <td>...</td>\n",
       "      <td>...</td>\n",
       "      <td>...</td>\n",
       "      <td>...</td>\n",
       "    </tr>\n",
       "    <tr>\n",
       "      <th>205</th>\n",
       "      <td>peke</td>\n",
       "      <td>peke</td>\n",
       "      <td>poss.O</td>\n",
       "      <td>1</td>\n",
       "      <td>True</td>\n",
       "      <td>False</td>\n",
       "    </tr>\n",
       "    <tr>\n",
       "      <th>206</th>\n",
       "      <td>peke</td>\n",
       "      <td>pekenga</td>\n",
       "      <td>poss.O</td>\n",
       "      <td>1</td>\n",
       "      <td>False</td>\n",
       "      <td>False</td>\n",
       "    </tr>\n",
       "    <tr>\n",
       "      <th>208</th>\n",
       "      <td>piki</td>\n",
       "      <td>pikinga</td>\n",
       "      <td>poss.O</td>\n",
       "      <td>1</td>\n",
       "      <td>False</td>\n",
       "      <td>False</td>\n",
       "    </tr>\n",
       "    <tr>\n",
       "      <th>229</th>\n",
       "      <td>pēhea</td>\n",
       "      <td>pēhea</td>\n",
       "      <td>poss.O</td>\n",
       "      <td>1</td>\n",
       "      <td>True</td>\n",
       "      <td>False</td>\n",
       "    </tr>\n",
       "    <tr>\n",
       "      <th>430</th>\n",
       "      <td>ū</td>\n",
       "      <td>ūtanga</td>\n",
       "      <td>poss.O</td>\n",
       "      <td>1</td>\n",
       "      <td>False</td>\n",
       "      <td>False</td>\n",
       "    </tr>\n",
       "  </tbody>\n",
       "</table>\n",
       "<p>249 rows × 6 columns</p>\n",
       "</div>"
      ],
      "text/plain": [
       "         verb nominalisation   query  phrase  exact  stative\n",
       "367  whakaaro       whakaaro  poss.O     528   True    False\n",
       "127      mahi           mahi  poss.O     168   True    False\n",
       "120    kōrero         kōrero  poss.O     120   True    False\n",
       "411    whānau         whānau  poss.O     102   True    False\n",
       "296      tika        tikanga  poss.O     102  False    False\n",
       "..        ...            ...     ...     ...    ...      ...\n",
       "205      peke           peke  poss.O       1   True    False\n",
       "206      peke        pekenga  poss.O       1  False    False\n",
       "208      piki        pikinga  poss.O       1  False    False\n",
       "229     pēhea          pēhea  poss.O       1   True    False\n",
       "430         ū         ūtanga  poss.O       1  False    False\n",
       "\n",
       "[249 rows x 6 columns]"
      ]
     },
     "execution_count": 50,
     "metadata": {},
     "output_type": "execute_result"
    }
   ],
   "source": [
    "possessive_counts[possessive_counts['query'] == 'poss.O']"
   ]
  },
  {
   "cell_type": "code",
   "execution_count": null,
   "id": "65e478e6",
   "metadata": {},
   "outputs": [
    {
     "data": {
      "application/vnd.microsoft.datawrangler.viewer.v0+json": {
       "columns": [
        {
         "name": "query",
         "rawType": "object",
         "type": "string"
        },
        {
         "name": "False",
         "rawType": "int64",
         "type": "integer"
        },
        {
         "name": "True",
         "rawType": "int64",
         "type": "integer"
        }
       ],
       "ref": "81bdf0d9-c5fa-4c12-8fb7-ab4a3a5bbb0c",
       "rows": [
        [
         "poss.A",
         "179",
         "3"
        ],
        [
         "poss.O",
         "242",
         "7"
        ]
       ],
       "shape": {
        "columns": 2,
        "rows": 2
       }
      },
      "text/html": [
       "<div>\n",
       "<style scoped>\n",
       "    .dataframe tbody tr th:only-of-type {\n",
       "        vertical-align: middle;\n",
       "    }\n",
       "\n",
       "    .dataframe tbody tr th {\n",
       "        vertical-align: top;\n",
       "    }\n",
       "\n",
       "    .dataframe thead th {\n",
       "        text-align: right;\n",
       "    }\n",
       "</style>\n",
       "<table border=\"1\" class=\"dataframe\">\n",
       "  <thead>\n",
       "    <tr style=\"text-align: right;\">\n",
       "      <th>stative</th>\n",
       "      <th>False</th>\n",
       "      <th>True</th>\n",
       "    </tr>\n",
       "    <tr>\n",
       "      <th>query</th>\n",
       "      <th></th>\n",
       "      <th></th>\n",
       "    </tr>\n",
       "  </thead>\n",
       "  <tbody>\n",
       "    <tr>\n",
       "      <th>poss.A</th>\n",
       "      <td>179</td>\n",
       "      <td>3</td>\n",
       "    </tr>\n",
       "    <tr>\n",
       "      <th>poss.O</th>\n",
       "      <td>242</td>\n",
       "      <td>7</td>\n",
       "    </tr>\n",
       "  </tbody>\n",
       "</table>\n",
       "</div>"
      ],
      "text/plain": [
       "stative  False  True \n",
       "query                \n",
       "poss.A     179      3\n",
       "poss.O     242      7"
      ]
     },
     "execution_count": 51,
     "metadata": {},
     "output_type": "execute_result"
    }
   ],
   "source": [
    "possessive_counts.pivot_table(index='query', columns='stative', aggfunc='count', values='phrase')"
   ]
  },
  {
   "cell_type": "code",
   "execution_count": null,
   "id": "ed9e5a4d",
   "metadata": {},
   "outputs": [
    {
     "data": {
      "image/png": "[encoded data removed]",
      "text/plain": [
       "<Figure size 640x480 with 1 Axes>"
      ]
     },
     "metadata": {},
     "output_type": "display_data"
    }
   ],
   "source": [
    "df = possessive_counts.pivot_table(index='nominalisation', columns='query', aggfunc='sum', values='phrase')\n",
    "\n",
    "zoom = 0.97**2\n",
    "df = df.mask(df['poss.O'] > df.quantile(zoom)['poss.O']).mask(df['poss.A'] > df.quantile(zoom)['poss.A'])\n",
    "\n",
    "df = df / df.sum(axis=0)\n",
    "plt.scatter(df['poss.O'], df['poss.A'])\n",
    "plt.axline((0, 0), slope=1, color='red', linestyle='--')\n",
    "annotate(0.97, df, 'poss.O', 'poss.A')\n",
    "plt.xlabel('O')\n",
    "plt.ylabel('A')\n",
    "plt.title('Possession of nominalisations')\n",
    "plt.grid()"
   ]
  }
 ],
 "metadata": {
  "kernelspec": {
   "display_name": "venv",
   "language": "python",
   "name": "python3"
  },
  "language_info": {
   "codemirror_mode": {
    "name": "ipython",
    "version": 3
   },
   "file_extension": ".py",
   "mimetype": "text/x-python",
   "name": "python",
   "nbconvert_exporter": "python",
   "pygments_lexer": "ipython3",
   "version": "3.11.6"
  }
 },
 "nbformat": 4,
 "nbformat_minor": 5
}
